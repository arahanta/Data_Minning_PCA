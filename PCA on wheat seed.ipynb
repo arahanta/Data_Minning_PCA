{
 "cells": [
  {
   "cell_type": "code",
   "execution_count": 23,
   "id": "fc8666c5",
   "metadata": {},
   "outputs": [],
   "source": [
    "import numpy as np\n",
    "from sklearn.preprocessing import StandardScaler\n",
    "import matplotlib.pyplot as plt\n",
    "import random \n",
    "import pandas as pd"
   ]
  },
  {
   "cell_type": "code",
   "execution_count": 24,
   "id": "b96522f5",
   "metadata": {},
   "outputs": [],
   "source": [
    "#using PCA\n",
    "def plot_3d(output, title ='Fig: 3 components PCA on Seed Dataset'):\n",
    "    fig = plt.figure(figsize =(12,10))\n",
    "    ax = fig.add_subplot(111, projection='3d')\n",
    "    colormap = np.array(['r', 'g', 'b'])\n",
    "    markers=np.array(['s', '*','1'])\n",
    "    \n",
    "    for i in range(len(output[:, 0])):\n",
    "        ax.scatter(\n",
    "            output[i, 0],  # X coordinates of principal components\n",
    "            output[i, 1],  # Y coordinates of principal components\n",
    "            output[i, 2],   # Z coordinates of principal components\n",
    "            marker=markers[df.iloc[i,7]],\n",
    "            c =colormap[df.iloc[i,7]]\n",
    "\n",
    "        )\n",
    "    plt.title(title)\n",
    "    plt.legend([f'Roll [5,9]'])\n",
    "    # Set labels for each axis\n",
    "    ax.set_xlabel('Principal Component 1')\n",
    "    ax.set_ylabel('Principal Component 2')\n",
    "    ax.set_zlabel('Principal Component 3')\n",
    "    # Show the plot\n",
    "    plt.show()\n",
    "\n",
    "def plot_2d(output, title ='Fig: 2 components PCA on Seed Dataset'):\n",
    "    colormap = np.array(['r', 'g', 'b'])\n",
    "    markers=np.array(['s', '*','1'])\n",
    "\n",
    "    for i in range(len(output[:, 0])):\n",
    "        plt.scatter(\n",
    "            output[i, 0],  # X coordinates of principal components\n",
    "            output[i, 1],  # Y coordinates of principal components\n",
    "            marker=markers[df.iloc[i,7]],\n",
    "            c =colormap[df.iloc[i,7]]\n",
    "\n",
    "        )\n",
    "    plt.title(title)\n",
    "    plt.legend([f'Roll [5,9]'])\n",
    "    # Set labels for each axis\n",
    "    plt.xlabel('Principal Component 1')\n",
    "    plt.ylabel('Principal Component 2')\n",
    "    # Show the plot\n",
    "    plt.show()\n",
    "    \n",
    "#plot 1D\n",
    "def plot_1d(output, title ='Fig: 2 components PCA on Seed Dataset'):\n",
    "    colormap = np.array(['r', 'g', 'b'])\n",
    "    markers=np.array(['s', '*','1'])\n",
    "\n",
    "    for i in range(len(output)):\n",
    "        plt.scatter(\n",
    "            output[i],  # X coordinates of principal components\n",
    "            output[i],  # Y coordinates of principal components\n",
    "            marker=markers[df.iloc[i,7]],\n",
    "            c =colormap[df.iloc[i,7]]\n",
    "\n",
    "        )\n",
    "    plt.title(title)\n",
    "    plt.legend([f'Roll [5,9]'])\n",
    "    # Set labels for each axis\n",
    "    plt.xlabel('Principal Component 1')\n",
    "    plt.ylabel('Principal Component 2')\n",
    "    # Show the plot\n",
    "    plt.show()\n",
    "    \n",
    "def sort_evect(eval, evect):\n",
    "    pair = dict()\n",
    "    for i in range(len(eval)):\n",
    "        pair[np.abs(eval[i])]= evect[:, i]  \n",
    "    sorted_pair = dict(sorted(pair.items(), reverse= True))\n",
    "    evect_sorted= np.array(list(sorted_pair.values()))\n",
    "    return evect_sorted\n",
    "\n",
    "def cal_prop(e):\n",
    "    prop = []\n",
    "    sum = np.sum(e)\n",
    "    for i in range(len(e)):\n",
    "        prop.append((e[i]/sum)*100)\n",
    "    return prop\n"
   ]
  },
  {
   "cell_type": "code",
   "execution_count": 25,
   "id": "dce2a07a",
   "metadata": {},
   "outputs": [],
   "source": [
    "df= pd.read_csv('Seed_Data.csv')"
   ]
  },
  {
   "cell_type": "code",
   "execution_count": 60,
   "id": "72c35ad5",
   "metadata": {},
   "outputs": [
    {
     "name": "stdout",
     "output_type": "stream",
     "text": [
      "['A', 'P', 'C', 'LK', 'WK', 'A_Coef', 'LKG', 'target']\n"
     ]
    }
   ],
   "source": [
    "df_ = df.drop('target', axis=1)\n",
    "column_names = df.columns.tolist()\n",
    "print(column_names)"
   ]
  },
  {
   "cell_type": "code",
   "execution_count": 26,
   "id": "67fc8555",
   "metadata": {},
   "outputs": [
    {
     "data": {
      "text/plain": [
       "<bound method NDFrame.describe of          A      P       C     LK     WK  A_Coef    LKG  target\n",
       "0    15.26  14.84  0.8710  5.763  3.312   2.221  5.220       0\n",
       "1    14.88  14.57  0.8811  5.554  3.333   1.018  4.956       0\n",
       "2    14.29  14.09  0.9050  5.291  3.337   2.699  4.825       0\n",
       "3    13.84  13.94  0.8955  5.324  3.379   2.259  4.805       0\n",
       "4    16.14  14.99  0.9034  5.658  3.562   1.355  5.175       0\n",
       "..     ...    ...     ...    ...    ...     ...    ...     ...\n",
       "205  12.19  13.20  0.8783  5.137  2.981   3.631  4.870       2\n",
       "206  11.23  12.88  0.8511  5.140  2.795   4.325  5.003       2\n",
       "207  13.20  13.66  0.8883  5.236  3.232   8.315  5.056       2\n",
       "208  11.84  13.21  0.8521  5.175  2.836   3.598  5.044       2\n",
       "209  12.30  13.34  0.8684  5.243  2.974   5.637  5.063       2\n",
       "\n",
       "[210 rows x 8 columns]>"
      ]
     },
     "execution_count": 26,
     "metadata": {},
     "output_type": "execute_result"
    }
   ],
   "source": [
    "df.describe"
   ]
  },
  {
   "cell_type": "code",
   "execution_count": 27,
   "id": "424b7b5d",
   "metadata": {},
   "outputs": [
    {
     "data": {
      "text/html": [
       "<div>\n",
       "<style scoped>\n",
       "    .dataframe tbody tr th:only-of-type {\n",
       "        vertical-align: middle;\n",
       "    }\n",
       "\n",
       "    .dataframe tbody tr th {\n",
       "        vertical-align: top;\n",
       "    }\n",
       "\n",
       "    .dataframe thead th {\n",
       "        text-align: right;\n",
       "    }\n",
       "</style>\n",
       "<table border=\"1\" class=\"dataframe\">\n",
       "  <thead>\n",
       "    <tr style=\"text-align: right;\">\n",
       "      <th></th>\n",
       "      <th>A</th>\n",
       "      <th>P</th>\n",
       "      <th>C</th>\n",
       "      <th>LK</th>\n",
       "      <th>WK</th>\n",
       "      <th>A_Coef</th>\n",
       "      <th>LKG</th>\n",
       "      <th>target</th>\n",
       "    </tr>\n",
       "  </thead>\n",
       "  <tbody>\n",
       "    <tr>\n",
       "      <th>0</th>\n",
       "      <td>15.26</td>\n",
       "      <td>14.84</td>\n",
       "      <td>0.8710</td>\n",
       "      <td>5.763</td>\n",
       "      <td>3.312</td>\n",
       "      <td>2.221</td>\n",
       "      <td>5.220</td>\n",
       "      <td>0</td>\n",
       "    </tr>\n",
       "    <tr>\n",
       "      <th>1</th>\n",
       "      <td>14.88</td>\n",
       "      <td>14.57</td>\n",
       "      <td>0.8811</td>\n",
       "      <td>5.554</td>\n",
       "      <td>3.333</td>\n",
       "      <td>1.018</td>\n",
       "      <td>4.956</td>\n",
       "      <td>0</td>\n",
       "    </tr>\n",
       "    <tr>\n",
       "      <th>2</th>\n",
       "      <td>14.29</td>\n",
       "      <td>14.09</td>\n",
       "      <td>0.9050</td>\n",
       "      <td>5.291</td>\n",
       "      <td>3.337</td>\n",
       "      <td>2.699</td>\n",
       "      <td>4.825</td>\n",
       "      <td>0</td>\n",
       "    </tr>\n",
       "    <tr>\n",
       "      <th>3</th>\n",
       "      <td>13.84</td>\n",
       "      <td>13.94</td>\n",
       "      <td>0.8955</td>\n",
       "      <td>5.324</td>\n",
       "      <td>3.379</td>\n",
       "      <td>2.259</td>\n",
       "      <td>4.805</td>\n",
       "      <td>0</td>\n",
       "    </tr>\n",
       "    <tr>\n",
       "      <th>4</th>\n",
       "      <td>16.14</td>\n",
       "      <td>14.99</td>\n",
       "      <td>0.9034</td>\n",
       "      <td>5.658</td>\n",
       "      <td>3.562</td>\n",
       "      <td>1.355</td>\n",
       "      <td>5.175</td>\n",
       "      <td>0</td>\n",
       "    </tr>\n",
       "  </tbody>\n",
       "</table>\n",
       "</div>"
      ],
      "text/plain": [
       "       A      P       C     LK     WK  A_Coef    LKG  target\n",
       "0  15.26  14.84  0.8710  5.763  3.312   2.221  5.220       0\n",
       "1  14.88  14.57  0.8811  5.554  3.333   1.018  4.956       0\n",
       "2  14.29  14.09  0.9050  5.291  3.337   2.699  4.825       0\n",
       "3  13.84  13.94  0.8955  5.324  3.379   2.259  4.805       0\n",
       "4  16.14  14.99  0.9034  5.658  3.562   1.355  5.175       0"
      ]
     },
     "execution_count": 27,
     "metadata": {},
     "output_type": "execute_result"
    }
   ],
   "source": [
    "df.head()"
   ]
  },
  {
   "cell_type": "code",
   "execution_count": 28,
   "id": "f90c7fc4",
   "metadata": {},
   "outputs": [
    {
     "data": {
      "image/png": "[encoded data removed]",
      "text/plain": [
       "<Figure size 640x480 with 1 Axes>"
      ]
     },
     "metadata": {},
     "output_type": "display_data"
    }
   ],
   "source": [
    "labels = df.iloc[:,7]\n",
    "labels = np.array(labels)\n",
    "counts= [np.count_nonzero([labels==0]), np.count_nonzero([labels==1]), np.count_nonzero([labels==1]) ]\n",
    "\n",
    "classes = ['Kama', 'Rosa',  'Canadian']\n",
    "# Plot the histogram\n",
    "plt.bar(classes, counts)\n",
    "plt.xlabel('Labels')\n",
    "plt.ylabel('Frequency')\n",
    "plt.title('Data visualization')\n",
    "plt.show()"
   ]
  },
  {
   "cell_type": "code",
   "execution_count": 29,
   "id": "52273508",
   "metadata": {},
   "outputs": [],
   "source": [
    "data = df.iloc[:,:7].to_numpy()"
   ]
  },
  {
   "cell_type": "code",
   "execution_count": 30,
   "id": "adee092a",
   "metadata": {},
   "outputs": [],
   "source": [
    "data_std = StandardScaler().fit_transform(data)"
   ]
  },
  {
   "cell_type": "code",
   "execution_count": 31,
   "id": "3b12e4b8",
   "metadata": {},
   "outputs": [
    {
     "data": {
      "text/plain": [
       "(-2.6584932290343884e-16, 1.0)"
      ]
     },
     "execution_count": 31,
     "metadata": {},
     "output_type": "execute_result"
    }
   ],
   "source": [
    "data_std.mean(), data_std.var()"
   ]
  },
  {
   "cell_type": "code",
   "execution_count": 32,
   "id": "4ed6ee8e",
   "metadata": {},
   "outputs": [
    {
     "data": {
      "text/plain": [
       "array([[ 1.00478469,  0.99909854,  0.61119889,  0.9545308 ,  0.97541544,\n",
       "        -0.23067077,  0.86782525],\n",
       "       [ 0.99909854,  1.00478469,  0.53177587,  0.97707507,  0.94935008,\n",
       "        -0.21838028,  0.89504603],\n",
       "       [ 0.61119889,  0.53177587,  1.00478469,  0.36967551,  0.7652787 ,\n",
       "        -0.33305686,  0.22791011],\n",
       "       [ 0.9545308 ,  0.97707507,  0.36967551,  1.00478469,  0.86453176,\n",
       "        -0.1723833 ,  0.93726927],\n",
       "       [ 0.97541544,  0.94935008,  0.7652787 ,  0.86453176,  1.00478469,\n",
       "        -0.25927117,  0.75271583],\n",
       "       [-0.23067077, -0.21838028, -0.33305686, -0.1723833 , -0.25927117,\n",
       "         1.00478469, -0.01113203],\n",
       "       [ 0.86782525,  0.89504603,  0.22791011,  0.93726927,  0.75271583,\n",
       "        -0.01113203,  1.00478469]])"
      ]
     },
     "execution_count": 32,
     "metadata": {},
     "output_type": "execute_result"
    }
   ],
   "source": [
    "covariance= np.cov(data_std.T)\n",
    "covariance"
   ]
  },
  {
   "cell_type": "code",
   "execution_count": 33,
   "id": "c2f5acea",
   "metadata": {},
   "outputs": [
    {
     "name": "stdout",
     "output_type": "stream",
     "text": [
      "[71.87430265675432, 17.108183528158026, 9.6857634082921, 0.9766353856015455, 0.26733727146763797, 0.011605668563906216, 0.07617208116246715]\n"
     ]
    }
   ],
   "source": [
    "eigen_value, eigen_vect = np.linalg.eig(covariance)\n",
    "prop=cal_prop(eigen_value)\n",
    "eigen_vect_sorted = sort_evect(eigen_value, eigen_vect)\n",
    "print(prop)"
   ]
  },
  {
   "cell_type": "code",
   "execution_count": 34,
   "id": "8efc0bfb",
   "metadata": {},
   "outputs": [],
   "source": [
    "#no of prinicipal components, set intialy to 3\n",
    "k=3"
   ]
  },
  {
   "cell_type": "code",
   "execution_count": 35,
   "id": "7cf57a9e",
   "metadata": {},
   "outputs": [],
   "source": [
    "output_data = np.matmul(eigen_vect_sorted[:k-1,:], data_std.T)\n",
    "output= output_data.T\n",
    "output_3d = np.matmul(eigen_vect_sorted[:k,:], data_std.T)\n",
    "output_3d = output_3d.T"
   ]
  },
  {
   "cell_type": "code",
   "execution_count": 36,
   "id": "5a06532f",
   "metadata": {},
   "outputs": [
    {
     "data": {
      "image/png": "[encoded data removed]",
      "text/plain": [
       "<Figure size 640x480 with 1 Axes>"
      ]
     },
     "metadata": {},
     "output_type": "display_data"
    },
    {
     "data": {
      "image/png": "[encoded data removed]",
      "text/plain": [
       "<Figure size 1200x1000 with 1 Axes>"
      ]
     },
     "metadata": {},
     "output_type": "display_data"
    }
   ],
   "source": [
    "plot_2d(output, title ='Fig: 2 components PCA on Seed Dataset')\n",
    "plot_3d(output_3d, title ='Fig: 3 components PCA on Seed Dataset')"
   ]
  },
  {
   "cell_type": "code",
   "execution_count": 37,
   "id": "cfa4517d",
   "metadata": {},
   "outputs": [
    {
     "data": {
      "image/png": "[encoded data removed]",
      "text/plain": [
       "<Figure size 640x480 with 1 Axes>"
      ]
     },
     "metadata": {},
     "output_type": "display_data"
    },
    {
     "data": {
      "image/png": "[encoded data removed]",
      "text/plain": [
       "<Figure size 1200x1000 with 1 Axes>"
      ]
     },
     "metadata": {},
     "output_type": "display_data"
    }
   ],
   "source": [
    "from sklearn.decomposition import PCA\n",
    "\n",
    "# Assume you have a dataset called `data` with dimensions (m, n)\n",
    "\n",
    "# Create an instance of PCA with the desired number of components\n",
    "pca2d = PCA(n_components=2)\n",
    "pca3d = PCA(n_components=3)\n",
    "\n",
    "# Fit the PCA model to the data\n",
    "pca2d.fit(data_std)\n",
    "pca3d.fit(data_std)\n",
    "\n",
    "# Transform the data to the lower-dimensional space\n",
    "data2d = pca2d.transform(data_std)\n",
    "data3d = pca3d.transform(data_std)\n",
    "\n",
    "\n",
    "plot_2d(data2d, title ='Fig: 2 components PCA on Seed Dataset using scikit')\n",
    "plot_3d(data3d, title ='Fig: 3 components PCA on Seed Dataset using scikit')"
   ]
  },
  {
   "cell_type": "code",
   "execution_count": 38,
   "id": "77f9282c",
   "metadata": {},
   "outputs": [
    {
     "data": {
      "image/png": "[encoded data removed]",
      "text/plain": [
       "<Figure size 640x480 with 1 Axes>"
      ]
     },
     "metadata": {},
     "output_type": "display_data"
    }
   ],
   "source": [
    "#PCA using 3 and 4 th larger eigen value\n",
    "output_data = np.matmul(eigen_vect_sorted[1,:], data_std.T)\n",
    "output_new= output_data.T\n",
    "# output_3d = np.matmul(eigen_vect_sorted[:k,:], data_std.T)\n",
    "# output_3d = output_3d.T\n",
    "plot_1d(output_new, title ='Fig: 2 components PCA on Seed Dataset using One PC')"
   ]
  },
  {
   "cell_type": "code",
   "execution_count": 39,
   "id": "7c04563a",
   "metadata": {},
   "outputs": [
    {
     "data": {
      "image/png": "[encoded data removed]",
      "text/plain": [
       "<Figure size 640x480 with 1 Axes>"
      ]
     },
     "metadata": {},
     "output_type": "display_data"
    }
   ],
   "source": [
    "#PCA using 3 and 4 th larger eigen value\n",
    "output_data = np.matmul(eigen_vect_sorted[2:4,:], data_std.T)\n",
    "output_new= output_data.T\n",
    "# output_3d = np.matmul(eigen_vect_sorted[:k,:], data_std.T)\n",
    "# output_3d = output_3d.T\n",
    "plot_2d(output_new, title ='Fig: 2 components PCA on Seed Dataset using 3rd and 4th PC')"
   ]
  },
  {
   "cell_type": "code",
   "execution_count": null,
   "id": "dd5199ab",
   "metadata": {},
   "outputs": [],
   "source": []
  },
  {
   "cell_type": "code",
   "execution_count": 52,
   "id": "03f49c73",
   "metadata": {},
   "outputs": [
    {
     "data": {
      "application/vnd.plotly.v1+json": {
       "config": {
        "plotlyServerURL": "https://plot.ly"
       },
       "data": [
        {
         "diagonal": {
          "visible": false
         },
         "dimensions": [
          {
           "axis": {
            "matches": true
           },
           "label": "A",
           "values": [
            15.26,
            14.88,
            14.29,
            13.84,
            16.14,
            14.38,
            14.69,
            14.11,
            16.63,
            16.44,
            15.26,
            14.03,
            13.89,
            13.78,
            13.74,
            14.59,
            13.99,
            15.69,
            14.7,
            12.72,
            14.16,
            14.11,
            15.88,
            12.08,
            15.01,
            16.19,
            13.02,
            12.74,
            14.11,
            13.45,
            13.16,
            15.49,
            14.09,
            13.94,
            15.05,
            16.12,
            16.2,
            17.08,
            14.8,
            14.28,
            13.54,
            13.5,
            13.16,
            15.5,
            15.11,
            13.8,
            15.36,
            14.99,
            14.79,
            14.86,
            14.43,
            15.78,
            14.49,
            14.33,
            14.52,
            15.03,
            14.46,
            14.92,
            15.38,
            12.11,
            11.42,
            11.23,
            12.36,
            13.22,
            12.78,
            12.88,
            14.34,
            14.01,
            14.37,
            12.73,
            17.63,
            16.84,
            17.26,
            19.11,
            16.82,
            16.77,
            17.32,
            20.71,
            18.94,
            17.12,
            16.53,
            18.72,
            20.2,
            19.57,
            19.51,
            18.27,
            18.88,
            18.98,
            21.18,
            20.88,
            20.1,
            18.76,
            18.81,
            18.59,
            18.36,
            16.87,
            19.31,
            18.98,
            18.17,
            18.72,
            16.41,
            17.99,
            19.46,
            19.18,
            18.95,
            18.83,
            18.85,
            17.63,
            19.94,
            18.55,
            18.45,
            19.38,
            19.13,
            19.14,
            20.97,
            19.06,
            18.96,
            19.15,
            18.89,
            20.03,
            20.24,
            18.14,
            16.17,
            18.43,
            15.99,
            18.75,
            18.65,
            17.98,
            20.16,
            17.55,
            18.3,
            18.94,
            15.38,
            16.16,
            15.56,
            15.38,
            17.36,
            15.57,
            15.6,
            16.23,
            13.07,
            13.32,
            13.34,
            12.22,
            11.82,
            11.21,
            11.43,
            12.49,
            12.7,
            10.79,
            11.83,
            12.01,
            12.26,
            11.18,
            11.36,
            11.19,
            11.34,
            12.13,
            11.75,
            11.49,
            12.54,
            12.02,
            12.05,
            12.55,
            11.14,
            12.1,
            12.44,
            12.15,
            11.35,
            11.24,
            11.02,
            11.55,
            11.27,
            11.4,
            10.83,
            10.8,
            11.26,
            10.74,
            11.48,
            12.21,
            11.41,
            12.46,
            12.19,
            11.65,
            12.89,
            11.56,
            11.81,
            10.91,
            11.23,
            10.59,
            10.93,
            11.27,
            11.87,
            10.82,
            12.11,
            12.8,
            12.79,
            13.37,
            12.62,
            12.76,
            12.38,
            12.67,
            11.18,
            12.7,
            12.37,
            12.19,
            11.23,
            13.2,
            11.84,
            12.3
           ]
          },
          {
           "axis": {
            "matches": true
           },
           "label": "P",
           "values": [
            14.84,
            14.57,
            14.09,
            13.94,
            14.99,
            14.21,
            14.49,
            14.1,
            15.46,
            15.25,
            14.85,
            14.16,
            14.02,
            14.06,
            14.05,
            14.28,
            13.83,
            14.75,
            14.21,
            13.57,
            14.4,
            14.26,
            14.9,
            13.23,
            14.76,
            15.16,
            13.76,
            13.67,
            14.18,
            14.02,
            13.82,
            14.94,
            14.41,
            14.17,
            14.68,
            15,
            15.27,
            15.38,
            14.52,
            14.17,
            13.85,
            13.85,
            13.55,
            14.86,
            14.54,
            14.04,
            14.76,
            14.56,
            14.52,
            14.67,
            14.4,
            14.91,
            14.61,
            14.28,
            14.6,
            14.77,
            14.35,
            14.43,
            14.77,
            13.47,
            12.86,
            12.63,
            13.19,
            13.84,
            13.57,
            13.5,
            14.37,
            14.29,
            14.39,
            13.75,
            15.98,
            15.67,
            15.73,
            16.26,
            15.51,
            15.62,
            15.91,
            17.23,
            16.49,
            15.55,
            15.34,
            16.19,
            16.89,
            16.74,
            16.71,
            16.09,
            16.26,
            16.66,
            17.21,
            17.05,
            16.99,
            16.2,
            16.29,
            16.05,
            16.52,
            15.65,
            16.59,
            16.57,
            16.26,
            16.34,
            15.25,
            15.86,
            16.5,
            16.63,
            16.42,
            16.29,
            16.17,
            15.86,
            16.92,
            16.22,
            16.12,
            16.72,
            16.31,
            16.61,
            17.25,
            16.45,
            16.2,
            16.45,
            16.23,
            16.9,
            16.91,
            16.12,
            15.38,
            15.97,
            14.89,
            16.18,
            16.41,
            15.85,
            17.03,
            15.66,
            15.89,
            16.32,
            14.9,
            15.33,
            14.89,
            14.66,
            15.76,
            15.15,
            15.11,
            15.18,
            13.92,
            13.94,
            13.95,
            13.32,
            13.4,
            13.13,
            13.13,
            13.46,
            13.71,
            12.93,
            13.23,
            13.52,
            13.6,
            13.04,
            13.05,
            13.05,
            12.87,
            13.73,
            13.52,
            13.22,
            13.67,
            13.33,
            13.41,
            13.57,
            12.79,
            13.15,
            13.59,
            13.45,
            13.12,
            13,
            13,
            13.1,
            12.97,
            13.08,
            12.96,
            12.57,
            13.01,
            12.73,
            13.05,
            13.47,
            12.95,
            13.41,
            13.36,
            13.07,
            13.77,
            13.31,
            13.45,
            12.8,
            12.82,
            12.41,
            12.8,
            12.86,
            13.02,
            12.83,
            13.27,
            13.47,
            13.53,
            13.78,
            13.67,
            13.38,
            13.44,
            13.32,
            12.72,
            13.41,
            13.47,
            13.2,
            12.88,
            13.66,
            13.21,
            13.34
           ]
          },
          {
           "axis": {
            "matches": true
           },
           "label": "C",
           "values": [
            0.871,
            0.8811,
            0.905,
            0.8955,
            0.9034,
            0.8951,
            0.8799,
            0.8911,
            0.8747,
            0.888,
            0.8696,
            0.8796,
            0.888,
            0.8759,
            0.8744,
            0.8993,
            0.9183,
            0.9058,
            0.9153,
            0.8686,
            0.8584,
            0.8722,
            0.8988,
            0.8664,
            0.8657,
            0.8849,
            0.8641,
            0.8564,
            0.882,
            0.8604,
            0.8662,
            0.8724,
            0.8529,
            0.8728,
            0.8779,
            0.9,
            0.8734,
            0.9079,
            0.8823,
            0.8944,
            0.8871,
            0.8852,
            0.9009,
            0.882,
            0.8986,
            0.8794,
            0.8861,
            0.8883,
            0.8819,
            0.8676,
            0.8751,
            0.8923,
            0.8538,
            0.8831,
            0.8557,
            0.8658,
            0.8818,
            0.9006,
            0.8857,
            0.8392,
            0.8683,
            0.884,
            0.8923,
            0.868,
            0.8716,
            0.8879,
            0.8726,
            0.8625,
            0.8726,
            0.8458,
            0.8673,
            0.8623,
            0.8763,
            0.9081,
            0.8786,
            0.8638,
            0.8599,
            0.8763,
            0.875,
            0.8892,
            0.8823,
            0.8977,
            0.8894,
            0.8779,
            0.878,
            0.887,
            0.8969,
            0.859,
            0.8989,
            0.9031,
            0.8746,
            0.8984,
            0.8906,
            0.9066,
            0.8452,
            0.8648,
            0.8815,
            0.8687,
            0.8637,
            0.881,
            0.8866,
            0.8992,
            0.8985,
            0.8717,
            0.8829,
            0.8917,
            0.9056,
            0.88,
            0.8752,
            0.8865,
            0.8921,
            0.8716,
            0.9035,
            0.8722,
            0.8859,
            0.8854,
            0.9077,
            0.889,
            0.9008,
            0.8811,
            0.8897,
            0.8772,
            0.8588,
            0.9077,
            0.9064,
            0.8999,
            0.8698,
            0.8993,
            0.8735,
            0.8991,
            0.9108,
            0.8942,
            0.8706,
            0.8644,
            0.8823,
            0.899,
            0.8785,
            0.8527,
            0.858,
            0.885,
            0.848,
            0.8613,
            0.862,
            0.8652,
            0.8274,
            0.8167,
            0.8335,
            0.8658,
            0.8491,
            0.8107,
            0.8496,
            0.8249,
            0.8333,
            0.8266,
            0.8382,
            0.8253,
            0.8596,
            0.8081,
            0.8082,
            0.8263,
            0.8425,
            0.8503,
            0.8416,
            0.8558,
            0.8558,
            0.8793,
            0.8462,
            0.8443,
            0.8291,
            0.8359,
            0.8189,
            0.8455,
            0.8419,
            0.8375,
            0.8099,
            0.859,
            0.8355,
            0.8329,
            0.8473,
            0.8453,
            0.856,
            0.8706,
            0.8579,
            0.8575,
            0.8541,
            0.8198,
            0.8198,
            0.8372,
            0.8594,
            0.8648,
            0.839,
            0.8563,
            0.8795,
            0.8256,
            0.8639,
            0.886,
            0.8786,
            0.8849,
            0.8481,
            0.8964,
            0.8609,
            0.8977,
            0.868,
            0.8874,
            0.8567,
            0.8783,
            0.8511,
            0.8883,
            0.8521,
            0.8684
           ]
          },
          {
           "axis": {
            "matches": true
           },
           "label": "LK",
           "values": [
            5.763,
            5.554,
            5.291,
            5.324,
            5.658,
            5.386,
            5.563,
            5.42,
            6.053,
            5.884,
            5.714,
            5.438,
            5.439,
            5.479,
            5.482,
            5.351,
            5.119,
            5.527,
            5.205,
            5.226,
            5.658,
            5.52,
            5.618,
            5.099,
            5.789,
            5.833,
            5.395,
            5.395,
            5.541,
            5.516,
            5.454,
            5.757,
            5.717,
            5.585,
            5.712,
            5.709,
            5.826,
            5.832,
            5.656,
            5.397,
            5.348,
            5.351,
            5.138,
            5.877,
            5.579,
            5.376,
            5.701,
            5.57,
            5.545,
            5.678,
            5.585,
            5.674,
            5.715,
            5.504,
            5.741,
            5.702,
            5.388,
            5.384,
            5.662,
            5.159,
            5.008,
            4.902,
            5.076,
            5.395,
            5.262,
            5.139,
            5.63,
            5.609,
            5.569,
            5.412,
            6.191,
            5.998,
            5.978,
            6.154,
            6.017,
            5.927,
            6.064,
            6.579,
            6.445,
            5.85,
            5.875,
            6.006,
            6.285,
            6.384,
            6.366,
            6.173,
            6.084,
            6.549,
            6.573,
            6.45,
            6.581,
            6.172,
            6.272,
            6.037,
            6.666,
            6.139,
            6.341,
            6.449,
            6.271,
            6.219,
            5.718,
            5.89,
            6.113,
            6.369,
            6.248,
            6.037,
            6.152,
            6.033,
            6.675,
            6.153,
            6.107,
            6.303,
            6.183,
            6.259,
            6.563,
            6.416,
            6.051,
            6.245,
            6.227,
            6.493,
            6.315,
            6.059,
            5.762,
            5.98,
            5.363,
            6.111,
            6.285,
            5.979,
            6.513,
            5.791,
            5.979,
            6.144,
            5.884,
            5.845,
            5.776,
            5.477,
            6.145,
            5.92,
            5.832,
            5.872,
            5.472,
            5.541,
            5.389,
            5.224,
            5.314,
            5.279,
            5.176,
            5.267,
            5.386,
            5.317,
            5.263,
            5.405,
            5.408,
            5.22,
            5.175,
            5.25,
            5.053,
            5.394,
            5.444,
            5.304,
            5.451,
            5.35,
            5.267,
            5.333,
            5.011,
            5.105,
            5.319,
            5.417,
            5.176,
            5.09,
            5.325,
            5.167,
            5.088,
            5.136,
            5.278,
            4.981,
            5.186,
            5.145,
            5.18,
            5.357,
            5.09,
            5.236,
            5.24,
            5.108,
            5.495,
            5.363,
            5.413,
            5.088,
            5.089,
            4.899,
            5.046,
            5.091,
            5.132,
            5.18,
            5.236,
            5.16,
            5.224,
            5.32,
            5.41,
            5.073,
            5.219,
            4.984,
            5.009,
            5.183,
            5.204,
            5.137,
            5.14,
            5.236,
            5.175,
            5.243
           ]
          },
          {
           "axis": {
            "matches": true
           },
           "label": "WK",
           "values": [
            3.312,
            3.333,
            3.337,
            3.379,
            3.562,
            3.312,
            3.259,
            3.302,
            3.465,
            3.505,
            3.242,
            3.201,
            3.199,
            3.156,
            3.114,
            3.333,
            3.383,
            3.514,
            3.466,
            3.049,
            3.129,
            3.168,
            3.507,
            2.936,
            3.245,
            3.421,
            3.026,
            2.956,
            3.221,
            3.065,
            2.975,
            3.371,
            3.186,
            3.15,
            3.328,
            3.485,
            3.464,
            3.683,
            3.288,
            3.298,
            3.156,
            3.158,
            3.201,
            3.396,
            3.462,
            3.155,
            3.393,
            3.377,
            3.291,
            3.258,
            3.272,
            3.434,
            3.113,
            3.199,
            3.113,
            3.212,
            3.377,
            3.412,
            3.419,
            3.032,
            2.85,
            2.879,
            3.042,
            3.07,
            3.026,
            3.119,
            3.19,
            3.158,
            3.153,
            2.882,
            3.561,
            3.484,
            3.594,
            3.93,
            3.486,
            3.438,
            3.403,
            3.814,
            3.639,
            3.566,
            3.467,
            3.857,
            3.864,
            3.772,
            3.801,
            3.651,
            3.764,
            3.67,
            4.033,
            4.032,
            3.785,
            3.796,
            3.693,
            3.86,
            3.485,
            3.463,
            3.81,
            3.552,
            3.512,
            3.684,
            3.525,
            3.694,
            3.892,
            3.681,
            3.755,
            3.786,
            3.806,
            3.573,
            3.763,
            3.674,
            3.769,
            3.791,
            3.902,
            3.737,
            3.991,
            3.719,
            3.897,
            3.815,
            3.769,
            3.857,
            3.962,
            3.563,
            3.387,
            3.771,
            3.582,
            3.869,
            3.594,
            3.687,
            3.773,
            3.69,
            3.755,
            3.825,
            3.268,
            3.395,
            3.408,
            3.465,
            3.574,
            3.231,
            3.286,
            3.472,
            2.994,
            3.073,
            3.074,
            2.967,
            2.777,
            2.687,
            2.719,
            2.967,
            2.911,
            2.648,
            2.84,
            2.776,
            2.833,
            2.693,
            2.755,
            2.675,
            2.849,
            2.745,
            2.678,
            2.695,
            2.879,
            2.81,
            2.847,
            2.968,
            2.794,
            2.941,
            2.897,
            2.837,
            2.668,
            2.715,
            2.701,
            2.845,
            2.763,
            2.763,
            2.641,
            2.821,
            2.71,
            2.642,
            2.758,
            2.893,
            2.775,
            3.017,
            2.909,
            2.85,
            3.026,
            2.683,
            2.716,
            2.675,
            2.821,
            2.787,
            2.717,
            2.804,
            2.953,
            2.63,
            2.975,
            3.126,
            3.054,
            3.128,
            2.911,
            3.155,
            2.989,
            3.135,
            2.81,
            3.091,
            2.96,
            2.981,
            2.795,
            3.232,
            2.836,
            2.974
           ]
          },
          {
           "axis": {
            "matches": true
           },
           "label": "A_Coef",
           "values": [
            2.221,
            1.018,
            2.699,
            2.259,
            1.355,
            2.462,
            3.586,
            2.7,
            2.04,
            1.969,
            4.543,
            1.717,
            3.986,
            3.136,
            2.932,
            4.185,
            5.234,
            1.599,
            1.767,
            4.102,
            3.072,
            2.688,
            0.7651,
            1.415,
            1.791,
            0.903,
            3.373,
            2.504,
            2.754,
            3.531,
            0.8551,
            3.412,
            3.92,
            2.124,
            2.129,
            2.27,
            2.823,
            2.956,
            3.112,
            6.685,
            2.587,
            2.249,
            2.461,
            4.711,
            3.128,
            1.56,
            1.367,
            2.958,
            2.704,
            2.129,
            3.975,
            5.593,
            4.116,
            3.328,
            1.481,
            1.933,
            2.802,
            1.142,
            1.999,
            1.502,
            2.7,
            2.269,
            3.22,
            4.157,
            1.176,
            2.352,
            1.313,
            2.217,
            1.464,
            3.533,
            4.076,
            4.675,
            4.539,
            2.936,
            4.004,
            4.92,
            3.824,
            4.451,
            5.064,
            2.858,
            5.532,
            5.324,
            5.173,
            1.472,
            2.962,
            2.443,
            1.649,
            3.691,
            5.78,
            5.016,
            1.955,
            3.12,
            3.237,
            6.001,
            4.933,
            3.696,
            3.477,
            2.144,
            2.853,
            2.188,
            4.217,
            2.068,
            4.308,
            3.357,
            3.368,
            2.553,
            2.843,
            3.747,
            3.252,
            1.738,
            2.235,
            3.678,
            2.109,
            6.682,
            4.677,
            2.248,
            4.334,
            3.084,
            3.639,
            3.063,
            5.901,
            3.619,
            4.286,
            2.984,
            3.336,
            4.188,
            4.391,
            2.257,
            1.91,
            5.366,
            2.837,
            2.908,
            4.462,
            4.266,
            4.972,
            3.6,
            3.526,
            2.64,
            2.725,
            3.769,
            5.304,
            7.035,
            5.995,
            5.469,
            4.471,
            6.169,
            2.221,
            4.421,
            3.26,
            5.462,
            5.195,
            6.992,
            4.756,
            3.332,
            4.048,
            5.813,
            3.347,
            4.825,
            4.378,
            5.388,
            3.082,
            4.271,
            4.988,
            4.419,
            6.388,
            2.201,
            4.924,
            3.638,
            4.337,
            3.521,
            6.735,
            6.715,
            4.309,
            5.588,
            5.182,
            4.773,
            5.335,
            4.702,
            5.876,
            1.661,
            4.957,
            4.987,
            4.857,
            5.209,
            6.185,
            4.062,
            4.898,
            4.179,
            7.524,
            4.975,
            5.398,
            3.985,
            3.597,
            4.853,
            4.132,
            4.873,
            5.483,
            4.67,
            3.306,
            2.828,
            5.472,
            2.3,
            4.051,
            8.456,
            3.919,
            3.631,
            4.325,
            8.315,
            3.598,
            5.637
           ]
          },
          {
           "axis": {
            "matches": true
           },
           "label": "LKG",
           "values": [
            5.22,
            4.956,
            4.825,
            4.805,
            5.175,
            4.956,
            5.219,
            5,
            5.877,
            5.533,
            5.314,
            5.001,
            4.738,
            4.872,
            4.825,
            4.781,
            4.781,
            5.046,
            4.649,
            4.914,
            5.176,
            5.219,
            5.091,
            4.961,
            5.001,
            5.307,
            4.825,
            4.869,
            5.038,
            5.097,
            5.056,
            5.228,
            5.299,
            5.012,
            5.36,
            5.443,
            5.527,
            5.484,
            5.309,
            5.001,
            5.178,
            5.176,
            4.783,
            5.528,
            5.18,
            4.961,
            5.132,
            5.175,
            5.111,
            5.351,
            5.144,
            5.136,
            5.396,
            5.224,
            5.487,
            5.439,
            5.044,
            5.088,
            5.222,
            4.519,
            4.607,
            4.703,
            4.605,
            5.088,
            4.782,
            4.607,
            5.15,
            5.132,
            5.3,
            5.067,
            6.06,
            5.877,
            5.791,
            6.079,
            5.841,
            5.795,
            5.922,
            6.451,
            6.362,
            5.746,
            5.88,
            5.879,
            6.187,
            6.273,
            6.185,
            6.197,
            6.109,
            6.498,
            6.231,
            6.321,
            6.449,
            6.053,
            6.053,
            5.877,
            6.448,
            5.967,
            6.238,
            6.453,
            6.273,
            6.097,
            5.618,
            5.837,
            6.009,
            6.229,
            6.148,
            5.879,
            6.2,
            5.929,
            6.55,
            5.894,
            5.794,
            5.965,
            5.924,
            6.053,
            6.316,
            6.163,
            5.75,
            6.185,
            5.966,
            6.32,
            6.188,
            6.011,
            5.703,
            5.905,
            5.144,
            5.992,
            6.102,
            5.919,
            6.185,
            5.661,
            5.962,
            5.949,
            5.795,
            5.795,
            5.847,
            5.439,
            5.971,
            5.879,
            5.752,
            5.922,
            5.395,
            5.44,
            5.307,
            5.221,
            5.178,
            5.275,
            5.132,
            5.002,
            5.316,
            5.194,
            5.307,
            5.27,
            5.36,
            5.001,
            5.263,
            5.219,
            5.003,
            5.22,
            5.31,
            5.31,
            5.491,
            5.308,
            5.046,
            5.176,
            5.049,
            5.056,
            5.27,
            5.338,
            5.132,
            5.088,
            5.163,
            4.956,
            5,
            5.089,
            5.185,
            5.063,
            5.092,
            4.963,
            5.002,
            5.178,
            4.825,
            5.147,
            5.158,
            5.135,
            5.316,
            5.182,
            5.352,
            4.956,
            4.957,
            4.794,
            5.045,
            5.001,
            5.132,
            5.089,
            5.012,
            4.914,
            4.958,
            5.091,
            5.231,
            4.83,
            5.045,
            4.745,
            4.828,
            5,
            5.001,
            4.87,
            5.003,
            5.056,
            5.044,
            5.063
           ]
          }
         ],
         "hovertemplate": "%{xaxis.title.text}=%{x}<br>%{yaxis.title.text}=%{y}<br>target=%{marker.color}<extra></extra>",
         "legendgroup": "",
         "marker": {
          "color": [
           0,
           0,
           0,
           0,
           0,
           0,
           0,
           0,
           0,
           0,
           0,
           0,
           0,
           0,
           0,
           0,
           0,
           0,
           0,
           0,
           0,
           0,
           0,
           0,
           0,
           0,
           0,
           0,
           0,
           0,
           0,
           0,
           0,
           0,
           0,
           0,
           0,
           0,
           0,
           0,
           0,
           0,
           0,
           0,
           0,
           0,
           0,
           0,
           0,
           0,
           0,
           0,
           0,
           0,
           0,
           0,
           0,
           0,
           0,
           0,
           0,
           0,
           0,
           0,
           0,
           0,
           0,
           0,
           0,
           0,
           1,
           1,
           1,
           1,
           1,
           1,
           1,
           1,
           1,
           1,
           1,
           1,
           1,
           1,
           1,
           1,
           1,
           1,
           1,
           1,
           1,
           1,
           1,
           1,
           1,
           1,
           1,
           1,
           1,
           1,
           1,
           1,
           1,
           1,
           1,
           1,
           1,
           1,
           1,
           1,
           1,
           1,
           1,
           1,
           1,
           1,
           1,
           1,
           1,
           1,
           1,
           1,
           1,
           1,
           1,
           1,
           1,
           1,
           1,
           1,
           1,
           1,
           1,
           1,
           1,
           1,
           1,
           1,
           1,
           1,
           2,
           2,
           2,
           2,
           2,
           2,
           2,
           2,
           2,
           2,
           2,
           2,
           2,
           2,
           2,
           2,
           2,
           2,
           2,
           2,
           2,
           2,
           2,
           2,
           2,
           2,
           2,
           2,
           2,
           2,
           2,
           2,
           2,
           2,
           2,
           2,
           2,
           2,
           2,
           2,
           2,
           2,
           2,
           2,
           2,
           2,
           2,
           2,
           2,
           2,
           2,
           2,
           2,
           2,
           2,
           2,
           2,
           2,
           2,
           2,
           2,
           2,
           2,
           2,
           2,
           2,
           2,
           2,
           2,
           2
          ],
          "coloraxis": "coloraxis",
          "symbol": "circle"
         },
         "name": "",
         "showlegend": false,
         "type": "splom"
        }
       ],
       "layout": {
        "annotations": [
         {
          "font": {
           "color": "#EF553B",
           "size": 12
          },
          "showarrow": false,
          "text": "*Roll No. 5, 9",
          "x": 0.5,
          "xref": "paper",
          "y": 1.1,
          "yref": "paper"
         }
        ],
        "coloraxis": {
         "colorbar": {
          "title": {
           "text": "target"
          }
         },
         "colorscale": [
          [
           0,
           "#0d0887"
          ],
          [
           0.1111111111111111,
           "#46039f"
          ],
          [
           0.2222222222222222,
           "#7201a8"
          ],
          [
           0.3333333333333333,
           "#9c179e"
          ],
          [
           0.4444444444444444,
           "#bd3786"
          ],
          [
           0.5555555555555556,
           "#d8576b"
          ],
          [
           0.6666666666666666,
           "#ed7953"
          ],
          [
           0.7777777777777778,
           "#fb9f3a"
          ],
          [
           0.8888888888888888,
           "#fdca26"
          ],
          [
           1,
           "#f0f921"
          ]
         ]
        },
        "dragmode": "select",
        "legend": {
         "tracegroupgap": 0
        },
        "margin": {
         "t": 60
        },
        "template": {
         "data": {
          "bar": [
           {
            "error_x": {
             "color": "#2a3f5f"
            },
            "error_y": {
             "color": "#2a3f5f"
            },
            "marker": {
             "line": {
              "color": "#E5ECF6",
              "width": 0.5
             },
             "pattern": {
              "fillmode": "overlay",
              "size": 10,
              "solidity": 0.2
             }
            },
            "type": "bar"
           }
          ],
          "barpolar": [
           {
            "marker": {
             "line": {
              "color": "#E5ECF6",
              "width": 0.5
             },
             "pattern": {
              "fillmode": "overlay",
              "size": 10,
              "solidity": 0.2
             }
            },
            "type": "barpolar"
           }
          ],
          "carpet": [
           {
            "aaxis": {
             "endlinecolor": "#2a3f5f",
             "gridcolor": "white",
             "linecolor": "white",
             "minorgridcolor": "white",
             "startlinecolor": "#2a3f5f"
            },
            "baxis": {
             "endlinecolor": "#2a3f5f",
             "gridcolor": "white",
             "linecolor": "white",
             "minorgridcolor": "white",
             "startlinecolor": "#2a3f5f"
            },
            "type": "carpet"
           }
          ],
          "choropleth": [
           {
            "colorbar": {
             "outlinewidth": 0,
             "ticks": ""
            },
            "type": "choropleth"
           }
          ],
          "contour": [
           {
            "colorbar": {
             "outlinewidth": 0,
             "ticks": ""
            },
            "colorscale": [
             [
              0,
              "#0d0887"
             ],
             [
              0.1111111111111111,
              "#46039f"
             ],
             [
              0.2222222222222222,
              "#7201a8"
             ],
             [
              0.3333333333333333,
              "#9c179e"
             ],
             [
              0.4444444444444444,
              "#bd3786"
             ],
             [
              0.5555555555555556,
              "#d8576b"
             ],
             [
              0.6666666666666666,
              "#ed7953"
             ],
             [
              0.7777777777777778,
              "#fb9f3a"
             ],
             [
              0.8888888888888888,
              "#fdca26"
             ],
             [
              1,
              "#f0f921"
             ]
            ],
            "type": "contour"
           }
          ],
          "contourcarpet": [
           {
            "colorbar": {
             "outlinewidth": 0,
             "ticks": ""
            },
            "type": "contourcarpet"
           }
          ],
          "heatmap": [
           {
            "colorbar": {
             "outlinewidth": 0,
             "ticks": ""
            },
            "colorscale": [
             [
              0,
              "#0d0887"
             ],
             [
              0.1111111111111111,
              "#46039f"
             ],
             [
              0.2222222222222222,
              "#7201a8"
             ],
             [
              0.3333333333333333,
              "#9c179e"
             ],
             [
              0.4444444444444444,
              "#bd3786"
             ],
             [
              0.5555555555555556,
              "#d8576b"
             ],
             [
              0.6666666666666666,
              "#ed7953"
             ],
             [
              0.7777777777777778,
              "#fb9f3a"
             ],
             [
              0.8888888888888888,
              "#fdca26"
             ],
             [
              1,
              "#f0f921"
             ]
            ],
            "type": "heatmap"
           }
          ],
          "heatmapgl": [
           {
            "colorbar": {
             "outlinewidth": 0,
             "ticks": ""
            },
            "colorscale": [
             [
              0,
              "#0d0887"
             ],
             [
              0.1111111111111111,
              "#46039f"
             ],
             [
              0.2222222222222222,
              "#7201a8"
             ],
             [
              0.3333333333333333,
              "#9c179e"
             ],
             [
              0.4444444444444444,
              "#bd3786"
             ],
             [
              0.5555555555555556,
              "#d8576b"
             ],
             [
              0.6666666666666666,
              "#ed7953"
             ],
             [
              0.7777777777777778,
              "#fb9f3a"
             ],
             [
              0.8888888888888888,
              "#fdca26"
             ],
             [
              1,
              "#f0f921"
             ]
            ],
            "type": "heatmapgl"
           }
          ],
          "histogram": [
           {
            "marker": {
             "pattern": {
              "fillmode": "overlay",
              "size": 10,
              "solidity": 0.2
             }
            },
            "type": "histogram"
           }
          ],
          "histogram2d": [
           {
            "colorbar": {
             "outlinewidth": 0,
             "ticks": ""
            },
            "colorscale": [
             [
              0,
              "#0d0887"
             ],
             [
              0.1111111111111111,
              "#46039f"
             ],
             [
              0.2222222222222222,
              "#7201a8"
             ],
             [
              0.3333333333333333,
              "#9c179e"
             ],
             [
              0.4444444444444444,
              "#bd3786"
             ],
             [
              0.5555555555555556,
              "#d8576b"
             ],
             [
              0.6666666666666666,
              "#ed7953"
             ],
             [
              0.7777777777777778,
              "#fb9f3a"
             ],
             [
              0.8888888888888888,
              "#fdca26"
             ],
             [
              1,
              "#f0f921"
             ]
            ],
            "type": "histogram2d"
           }
          ],
          "histogram2dcontour": [
           {
            "colorbar": {
             "outlinewidth": 0,
             "ticks": ""
            },
            "colorscale": [
             [
              0,
              "#0d0887"
             ],
             [
              0.1111111111111111,
              "#46039f"
             ],
             [
              0.2222222222222222,
              "#7201a8"
             ],
             [
              0.3333333333333333,
              "#9c179e"
             ],
             [
              0.4444444444444444,
              "#bd3786"
             ],
             [
              0.5555555555555556,
              "#d8576b"
             ],
             [
              0.6666666666666666,
              "#ed7953"
             ],
             [
              0.7777777777777778,
              "#fb9f3a"
             ],
             [
              0.8888888888888888,
              "#fdca26"
             ],
             [
              1,
              "#f0f921"
             ]
            ],
            "type": "histogram2dcontour"
           }
          ],
          "mesh3d": [
           {
            "colorbar": {
             "outlinewidth": 0,
             "ticks": ""
            },
            "type": "mesh3d"
           }
          ],
          "parcoords": [
           {
            "line": {
             "colorbar": {
              "outlinewidth": 0,
              "ticks": ""
             }
            },
            "type": "parcoords"
           }
          ],
          "pie": [
           {
            "automargin": true,
            "type": "pie"
           }
          ],
          "scatter": [
           {
            "fillpattern": {
             "fillmode": "overlay",
             "size": 10,
             "solidity": 0.2
            },
            "type": "scatter"
           }
          ],
          "scatter3d": [
           {
            "line": {
             "colorbar": {
              "outlinewidth": 0,
              "ticks": ""
             }
            },
            "marker": {
             "colorbar": {
              "outlinewidth": 0,
              "ticks": ""
             }
            },
            "type": "scatter3d"
           }
          ],
          "scattercarpet": [
           {
            "marker": {
             "colorbar": {
              "outlinewidth": 0,
              "ticks": ""
             }
            },
            "type": "scattercarpet"
           }
          ],
          "scattergeo": [
           {
            "marker": {
             "colorbar": {
              "outlinewidth": 0,
              "ticks": ""
             }
            },
            "type": "scattergeo"
           }
          ],
          "scattergl": [
           {
            "marker": {
             "colorbar": {
              "outlinewidth": 0,
              "ticks": ""
             }
            },
            "type": "scattergl"
           }
          ],
          "scattermapbox": [
           {
            "marker": {
             "colorbar": {
              "outlinewidth": 0,
              "ticks": ""
             }
            },
            "type": "scattermapbox"
           }
          ],
          "scatterpolar": [
           {
            "marker": {
             "colorbar": {
              "outlinewidth": 0,
              "ticks": ""
             }
            },
            "type": "scatterpolar"
           }
          ],
          "scatterpolargl": [
           {
            "marker": {
             "colorbar": {
              "outlinewidth": 0,
              "ticks": ""
             }
            },
            "type": "scatterpolargl"
           }
          ],
          "scatterternary": [
           {
            "marker": {
             "colorbar": {
              "outlinewidth": 0,
              "ticks": ""
             }
            },
            "type": "scatterternary"
           }
          ],
          "surface": [
           {
            "colorbar": {
             "outlinewidth": 0,
             "ticks": ""
            },
            "colorscale": [
             [
              0,
              "#0d0887"
             ],
             [
              0.1111111111111111,
              "#46039f"
             ],
             [
              0.2222222222222222,
              "#7201a8"
             ],
             [
              0.3333333333333333,
              "#9c179e"
             ],
             [
              0.4444444444444444,
              "#bd3786"
             ],
             [
              0.5555555555555556,
              "#d8576b"
             ],
             [
              0.6666666666666666,
              "#ed7953"
             ],
             [
              0.7777777777777778,
              "#fb9f3a"
             ],
             [
              0.8888888888888888,
              "#fdca26"
             ],
             [
              1,
              "#f0f921"
             ]
            ],
            "type": "surface"
           }
          ],
          "table": [
           {
            "cells": {
             "fill": {
              "color": "#EBF0F8"
             },
             "line": {
              "color": "white"
             }
            },
            "header": {
             "fill": {
              "color": "#C8D4E3"
             },
             "line": {
              "color": "white"
             }
            },
            "type": "table"
           }
          ]
         },
         "layout": {
          "annotationdefaults": {
           "arrowcolor": "#2a3f5f",
           "arrowhead": 0,
           "arrowwidth": 1
          },
          "autotypenumbers": "strict",
          "coloraxis": {
           "colorbar": {
            "outlinewidth": 0,
            "ticks": ""
           }
          },
          "colorscale": {
           "diverging": [
            [
             0,
             "#8e0152"
            ],
            [
             0.1,
             "#c51b7d"
            ],
            [
             0.2,
             "#de77ae"
            ],
            [
             0.3,
             "#f1b6da"
            ],
            [
             0.4,
             "#fde0ef"
            ],
            [
             0.5,
             "#f7f7f7"
            ],
            [
             0.6,
             "#e6f5d0"
            ],
            [
             0.7,
             "#b8e186"
            ],
            [
             0.8,
             "#7fbc41"
            ],
            [
             0.9,
             "#4d9221"
            ],
            [
             1,
             "#276419"
            ]
           ],
           "sequential": [
            [
             0,
             "#0d0887"
            ],
            [
             0.1111111111111111,
             "#46039f"
            ],
            [
             0.2222222222222222,
             "#7201a8"
            ],
            [
             0.3333333333333333,
             "#9c179e"
            ],
            [
             0.4444444444444444,
             "#bd3786"
            ],
            [
             0.5555555555555556,
             "#d8576b"
            ],
            [
             0.6666666666666666,
             "#ed7953"
            ],
            [
             0.7777777777777778,
             "#fb9f3a"
            ],
            [
             0.8888888888888888,
             "#fdca26"
            ],
            [
             1,
             "#f0f921"
            ]
           ],
           "sequentialminus": [
            [
             0,
             "#0d0887"
            ],
            [
             0.1111111111111111,
             "#46039f"
            ],
            [
             0.2222222222222222,
             "#7201a8"
            ],
            [
             0.3333333333333333,
             "#9c179e"
            ],
            [
             0.4444444444444444,
             "#bd3786"
            ],
            [
             0.5555555555555556,
             "#d8576b"
            ],
            [
             0.6666666666666666,
             "#ed7953"
            ],
            [
             0.7777777777777778,
             "#fb9f3a"
            ],
            [
             0.8888888888888888,
             "#fdca26"
            ],
            [
             1,
             "#f0f921"
            ]
           ]
          },
          "colorway": [
           "#636efa",
           "#EF553B",
           "#00cc96",
           "#ab63fa",
           "#FFA15A",
           "#19d3f3",
           "#FF6692",
           "#B6E880",
           "#FF97FF",
           "#FECB52"
          ],
          "font": {
           "color": "#2a3f5f"
          },
          "geo": {
           "bgcolor": "white",
           "lakecolor": "white",
           "landcolor": "#E5ECF6",
           "showlakes": true,
           "showland": true,
           "subunitcolor": "white"
          },
          "hoverlabel": {
           "align": "left"
          },
          "hovermode": "closest",
          "mapbox": {
           "style": "light"
          },
          "paper_bgcolor": "white",
          "plot_bgcolor": "#E5ECF6",
          "polar": {
           "angularaxis": {
            "gridcolor": "white",
            "linecolor": "white",
            "ticks": ""
           },
           "bgcolor": "#E5ECF6",
           "radialaxis": {
            "gridcolor": "white",
            "linecolor": "white",
            "ticks": ""
           }
          },
          "scene": {
           "xaxis": {
            "backgroundcolor": "#E5ECF6",
            "gridcolor": "white",
            "gridwidth": 2,
            "linecolor": "white",
            "showbackground": true,
            "ticks": "",
            "zerolinecolor": "white"
           },
           "yaxis": {
            "backgroundcolor": "#E5ECF6",
            "gridcolor": "white",
            "gridwidth": 2,
            "linecolor": "white",
            "showbackground": true,
            "ticks": "",
            "zerolinecolor": "white"
           },
           "zaxis": {
            "backgroundcolor": "#E5ECF6",
            "gridcolor": "white",
            "gridwidth": 2,
            "linecolor": "white",
            "showbackground": true,
            "ticks": "",
            "zerolinecolor": "white"
           }
          },
          "shapedefaults": {
           "line": {
            "color": "#2a3f5f"
           }
          },
          "ternary": {
           "aaxis": {
            "gridcolor": "white",
            "linecolor": "white",
            "ticks": ""
           },
           "baxis": {
            "gridcolor": "white",
            "linecolor": "white",
            "ticks": ""
           },
           "bgcolor": "#E5ECF6",
           "caxis": {
            "gridcolor": "white",
            "linecolor": "white",
            "ticks": ""
           }
          },
          "title": {
           "x": 0.05
          },
          "xaxis": {
           "automargin": true,
           "gridcolor": "white",
           "linecolor": "white",
           "ticks": "",
           "title": {
            "standoff": 15
           },
           "zerolinecolor": "white",
           "zerolinewidth": 2
          },
          "yaxis": {
           "automargin": true,
           "gridcolor": "white",
           "linecolor": "white",
           "ticks": "",
           "title": {
            "standoff": 15
           },
           "zerolinecolor": "white",
           "zerolinewidth": 2
          }
         }
        }
       }
      },
      "text/html": [
       "<div>                            <div id=\"31b58868-105b-4891-83d7-ae6c1eacd149\" class=\"plotly-graph-div\" style=\"height:525px; width:100%;\"></div>            <script type=\"text/javascript\">                require([\"plotly\"], function(Plotly) {                    window.PLOTLYENV=window.PLOTLYENV || {};                                    if (document.getElementById(\"31b58868-105b-4891-83d7-ae6c1eacd149\")) {                    Plotly.newPlot(                        \"31b58868-105b-4891-83d7-ae6c1eacd149\",                        [{\"dimensions\":[{\"axis\":{\"matches\":true},\"label\":\"A\",\"values\":[15.26,14.88,14.29,13.84,16.14,14.38,14.69,14.11,16.63,16.44,15.26,14.03,13.89,13.78,13.74,14.59,13.99,15.69,14.7,12.72,14.16,14.11,15.88,12.08,15.01,16.19,13.02,12.74,14.11,13.45,13.16,15.49,14.09,13.94,15.05,16.12,16.2,17.08,14.8,14.28,13.54,13.5,13.16,15.5,15.11,13.8,15.36,14.99,14.79,14.86,14.43,15.78,14.49,14.33,14.52,15.03,14.46,14.92,15.38,12.11,11.42,11.23,12.36,13.22,12.78,12.88,14.34,14.01,14.37,12.73,17.63,16.84,17.26,19.11,16.82,16.77,17.32,20.71,18.94,17.12,16.53,18.72,20.2,19.57,19.51,18.27,18.88,18.98,21.18,20.88,20.1,18.76,18.81,18.59,18.36,16.87,19.31,18.98,18.17,18.72,16.41,17.99,19.46,19.18,18.95,18.83,18.85,17.63,19.94,18.55,18.45,19.38,19.13,19.14,20.97,19.06,18.96,19.15,18.89,20.03,20.24,18.14,16.17,18.43,15.99,18.75,18.65,17.98,20.16,17.55,18.3,18.94,15.38,16.16,15.56,15.38,17.36,15.57,15.6,16.23,13.07,13.32,13.34,12.22,11.82,11.21,11.43,12.49,12.7,10.79,11.83,12.01,12.26,11.18,11.36,11.19,11.34,12.13,11.75,11.49,12.54,12.02,12.05,12.55,11.14,12.1,12.44,12.15,11.35,11.24,11.02,11.55,11.27,11.4,10.83,10.8,11.26,10.74,11.48,12.21,11.41,12.46,12.19,11.65,12.89,11.56,11.81,10.91,11.23,10.59,10.93,11.27,11.87,10.82,12.11,12.8,12.79,13.37,12.62,12.76,12.38,12.67,11.18,12.7,12.37,12.19,11.23,13.2,11.84,12.3]},{\"axis\":{\"matches\":true},\"label\":\"P\",\"values\":[14.84,14.57,14.09,13.94,14.99,14.21,14.49,14.1,15.46,15.25,14.85,14.16,14.02,14.06,14.05,14.28,13.83,14.75,14.21,13.57,14.4,14.26,14.9,13.23,14.76,15.16,13.76,13.67,14.18,14.02,13.82,14.94,14.41,14.17,14.68,15.0,15.27,15.38,14.52,14.17,13.85,13.85,13.55,14.86,14.54,14.04,14.76,14.56,14.52,14.67,14.4,14.91,14.61,14.28,14.6,14.77,14.35,14.43,14.77,13.47,12.86,12.63,13.19,13.84,13.57,13.5,14.37,14.29,14.39,13.75,15.98,15.67,15.73,16.26,15.51,15.62,15.91,17.23,16.49,15.55,15.34,16.19,16.89,16.74,16.71,16.09,16.26,16.66,17.21,17.05,16.99,16.2,16.29,16.05,16.52,15.65,16.59,16.57,16.26,16.34,15.25,15.86,16.5,16.63,16.42,16.29,16.17,15.86,16.92,16.22,16.12,16.72,16.31,16.61,17.25,16.45,16.2,16.45,16.23,16.9,16.91,16.12,15.38,15.97,14.89,16.18,16.41,15.85,17.03,15.66,15.89,16.32,14.9,15.33,14.89,14.66,15.76,15.15,15.11,15.18,13.92,13.94,13.95,13.32,13.4,13.13,13.13,13.46,13.71,12.93,13.23,13.52,13.6,13.04,13.05,13.05,12.87,13.73,13.52,13.22,13.67,13.33,13.41,13.57,12.79,13.15,13.59,13.45,13.12,13.0,13.0,13.1,12.97,13.08,12.96,12.57,13.01,12.73,13.05,13.47,12.95,13.41,13.36,13.07,13.77,13.31,13.45,12.8,12.82,12.41,12.8,12.86,13.02,12.83,13.27,13.47,13.53,13.78,13.67,13.38,13.44,13.32,12.72,13.41,13.47,13.2,12.88,13.66,13.21,13.34]},{\"axis\":{\"matches\":true},\"label\":\"C\",\"values\":[0.871,0.8811,0.905,0.8955,0.9034,0.8951,0.8799,0.8911,0.8747,0.888,0.8696,0.8796,0.888,0.8759,0.8744,0.8993,0.9183,0.9058,0.9153,0.8686,0.8584,0.8722,0.8988,0.8664,0.8657,0.8849,0.8641,0.8564,0.882,0.8604,0.8662,0.8724,0.8529,0.8728,0.8779,0.9,0.8734,0.9079,0.8823,0.8944,0.8871,0.8852,0.9009,0.882,0.8986,0.8794,0.8861,0.8883,0.8819,0.8676,0.8751,0.8923,0.8538,0.8831,0.8557,0.8658,0.8818,0.9006,0.8857,0.8392,0.8683,0.884,0.8923,0.868,0.8716,0.8879,0.8726,0.8625,0.8726,0.8458,0.8673,0.8623,0.8763,0.9081,0.8786,0.8638,0.8599,0.8763,0.875,0.8892,0.8823,0.8977,0.8894,0.8779,0.878,0.887,0.8969,0.859,0.8989,0.9031,0.8746,0.8984,0.8906,0.9066,0.8452,0.8648,0.8815,0.8687,0.8637,0.881,0.8866,0.8992,0.8985,0.8717,0.8829,0.8917,0.9056,0.88,0.8752,0.8865,0.8921,0.8716,0.9035,0.8722,0.8859,0.8854,0.9077,0.889,0.9008,0.8811,0.8897,0.8772,0.8588,0.9077,0.9064,0.8999,0.8698,0.8993,0.8735,0.8991,0.9108,0.8942,0.8706,0.8644,0.8823,0.899,0.8785,0.8527,0.858,0.885,0.848,0.8613,0.862,0.8652,0.8274,0.8167,0.8335,0.8658,0.8491,0.8107,0.8496,0.8249,0.8333,0.8266,0.8382,0.8253,0.8596,0.8081,0.8082,0.8263,0.8425,0.8503,0.8416,0.8558,0.8558,0.8793,0.8462,0.8443,0.8291,0.8359,0.8189,0.8455,0.8419,0.8375,0.8099,0.859,0.8355,0.8329,0.8473,0.8453,0.856,0.8706,0.8579,0.8575,0.8541,0.8198,0.8198,0.8372,0.8594,0.8648,0.839,0.8563,0.8795,0.8256,0.8639,0.886,0.8786,0.8849,0.8481,0.8964,0.8609,0.8977,0.868,0.8874,0.8567,0.8783,0.8511,0.8883,0.8521,0.8684]},{\"axis\":{\"matches\":true},\"label\":\"LK\",\"values\":[5.763,5.554,5.291,5.324,5.658,5.386,5.563,5.42,6.053,5.884,5.714,5.438,5.439,5.479,5.482,5.351,5.119,5.527,5.205,5.226,5.658,5.52,5.618,5.099,5.789,5.833,5.395,5.395,5.541,5.516,5.454,5.757,5.717,5.585,5.712,5.709,5.826,5.832,5.656,5.397,5.348,5.351,5.138,5.877,5.579,5.376,5.701,5.57,5.545,5.678,5.585,5.674,5.715,5.504,5.741,5.702,5.388,5.384,5.662,5.159,5.008,4.902,5.076,5.395,5.262,5.139,5.63,5.609,5.569,5.412,6.191,5.998,5.978,6.154,6.017,5.927,6.064,6.579,6.445,5.85,5.875,6.006,6.285,6.384,6.366,6.173,6.084,6.549,6.573,6.45,6.581,6.172,6.272,6.037,6.666,6.139,6.341,6.449,6.271,6.219,5.718,5.89,6.113,6.369,6.248,6.037,6.152,6.033,6.675,6.153,6.107,6.303,6.183,6.259,6.563,6.416,6.051,6.245,6.227,6.493,6.315,6.059,5.762,5.98,5.363,6.111,6.285,5.979,6.513,5.791,5.979,6.144,5.884,5.845,5.776,5.477,6.145,5.92,5.832,5.872,5.472,5.541,5.389,5.224,5.314,5.279,5.176,5.267,5.386,5.317,5.263,5.405,5.408,5.22,5.175,5.25,5.053,5.394,5.444,5.304,5.451,5.35,5.267,5.333,5.011,5.105,5.319,5.417,5.176,5.09,5.325,5.167,5.088,5.136,5.278,4.981,5.186,5.145,5.18,5.357,5.09,5.236,5.24,5.108,5.495,5.363,5.413,5.088,5.089,4.899,5.046,5.091,5.132,5.18,5.236,5.16,5.224,5.32,5.41,5.073,5.219,4.984,5.009,5.183,5.204,5.137,5.14,5.236,5.175,5.243]},{\"axis\":{\"matches\":true},\"label\":\"WK\",\"values\":[3.312,3.333,3.337,3.379,3.562,3.312,3.259,3.302,3.465,3.505,3.242,3.201,3.199,3.156,3.114,3.333,3.383,3.514,3.466,3.049,3.129,3.168,3.507,2.936,3.245,3.421,3.026,2.956,3.221,3.065,2.975,3.371,3.186,3.15,3.328,3.485,3.464,3.683,3.288,3.298,3.156,3.158,3.201,3.396,3.462,3.155,3.393,3.377,3.291,3.258,3.272,3.434,3.113,3.199,3.113,3.212,3.377,3.412,3.419,3.032,2.85,2.879,3.042,3.07,3.026,3.119,3.19,3.158,3.153,2.882,3.561,3.484,3.594,3.93,3.486,3.438,3.403,3.814,3.639,3.566,3.467,3.857,3.864,3.772,3.801,3.651,3.764,3.67,4.033,4.032,3.785,3.796,3.693,3.86,3.485,3.463,3.81,3.552,3.512,3.684,3.525,3.694,3.892,3.681,3.755,3.786,3.806,3.573,3.763,3.674,3.769,3.791,3.902,3.737,3.991,3.719,3.897,3.815,3.769,3.857,3.962,3.563,3.387,3.771,3.582,3.869,3.594,3.687,3.773,3.69,3.755,3.825,3.268,3.395,3.408,3.465,3.574,3.231,3.286,3.472,2.994,3.073,3.074,2.967,2.777,2.687,2.719,2.967,2.911,2.648,2.84,2.776,2.833,2.693,2.755,2.675,2.849,2.745,2.678,2.695,2.879,2.81,2.847,2.968,2.794,2.941,2.897,2.837,2.668,2.715,2.701,2.845,2.763,2.763,2.641,2.821,2.71,2.642,2.758,2.893,2.775,3.017,2.909,2.85,3.026,2.683,2.716,2.675,2.821,2.787,2.717,2.804,2.953,2.63,2.975,3.126,3.054,3.128,2.911,3.155,2.989,3.135,2.81,3.091,2.96,2.981,2.795,3.232,2.836,2.974]},{\"axis\":{\"matches\":true},\"label\":\"A_Coef\",\"values\":[2.221,1.018,2.699,2.259,1.355,2.462,3.586,2.7,2.04,1.969,4.543,1.717,3.986,3.136,2.932,4.185,5.234,1.599,1.767,4.102,3.072,2.688,0.7651,1.415,1.791,0.903,3.373,2.504,2.754,3.531,0.8551,3.412,3.92,2.124,2.129,2.27,2.823,2.956,3.112,6.685,2.587,2.249,2.461,4.711,3.128,1.56,1.367,2.958,2.704,2.129,3.975,5.593,4.116,3.328,1.481,1.933,2.802,1.142,1.999,1.502,2.7,2.269,3.22,4.157,1.176,2.352,1.313,2.217,1.464,3.533,4.076,4.675,4.539,2.936,4.004,4.92,3.824,4.451,5.064,2.858,5.532,5.324,5.173,1.472,2.962,2.443,1.649,3.691,5.78,5.016,1.955,3.12,3.237,6.001,4.933,3.696,3.477,2.144,2.853,2.188,4.217,2.068,4.308,3.357,3.368,2.553,2.843,3.747,3.252,1.738,2.235,3.678,2.109,6.682,4.677,2.248,4.334,3.084,3.639,3.063,5.901,3.619,4.286,2.984,3.336,4.188,4.391,2.257,1.91,5.366,2.837,2.908,4.462,4.266,4.972,3.6,3.526,2.64,2.725,3.769,5.304,7.035,5.995,5.469,4.471,6.169,2.221,4.421,3.26,5.462,5.195,6.992,4.756,3.332,4.048,5.813,3.347,4.825,4.378,5.388,3.082,4.271,4.988,4.419,6.388,2.201,4.924,3.638,4.337,3.521,6.735,6.715,4.309,5.588,5.182,4.773,5.335,4.702,5.876,1.661,4.957,4.987,4.857,5.209,6.185,4.062,4.898,4.179,7.524,4.975,5.398,3.985,3.597,4.853,4.132,4.873,5.483,4.67,3.306,2.828,5.472,2.3,4.051,8.456,3.919,3.631,4.325,8.315,3.598,5.637]},{\"axis\":{\"matches\":true},\"label\":\"LKG\",\"values\":[5.22,4.956,4.825,4.805,5.175,4.956,5.219,5.0,5.877,5.533,5.314,5.001,4.738,4.872,4.825,4.781,4.781,5.046,4.649,4.914,5.176,5.219,5.091,4.961,5.001,5.307,4.825,4.869,5.038,5.097,5.056,5.228,5.299,5.012,5.36,5.443,5.527,5.484,5.309,5.001,5.178,5.176,4.783,5.528,5.18,4.961,5.132,5.175,5.111,5.351,5.144,5.136,5.396,5.224,5.487,5.439,5.044,5.088,5.222,4.519,4.607,4.703,4.605,5.088,4.782,4.607,5.15,5.132,5.3,5.067,6.06,5.877,5.791,6.079,5.841,5.795,5.922,6.451,6.362,5.746,5.88,5.879,6.187,6.273,6.185,6.197,6.109,6.498,6.231,6.321,6.449,6.053,6.053,5.877,6.448,5.967,6.238,6.453,6.273,6.097,5.618,5.837,6.009,6.229,6.148,5.879,6.2,5.929,6.55,5.894,5.794,5.965,5.924,6.053,6.316,6.163,5.75,6.185,5.966,6.32,6.188,6.011,5.703,5.905,5.144,5.992,6.102,5.919,6.185,5.661,5.962,5.949,5.795,5.795,5.847,5.439,5.971,5.879,5.752,5.922,5.395,5.44,5.307,5.221,5.178,5.275,5.132,5.002,5.316,5.194,5.307,5.27,5.36,5.001,5.263,5.219,5.003,5.22,5.31,5.31,5.491,5.308,5.046,5.176,5.049,5.056,5.27,5.338,5.132,5.088,5.163,4.956,5.0,5.089,5.185,5.063,5.092,4.963,5.002,5.178,4.825,5.147,5.158,5.135,5.316,5.182,5.352,4.956,4.957,4.794,5.045,5.001,5.132,5.089,5.012,4.914,4.958,5.091,5.231,4.83,5.045,4.745,4.828,5.0,5.001,4.87,5.003,5.056,5.044,5.063]}],\"hovertemplate\":\"%{xaxis.title.text}=%{x}\\u003cbr\\u003e%{yaxis.title.text}=%{y}\\u003cbr\\u003etarget=%{marker.color}\\u003cextra\\u003e\\u003c\\u002fextra\\u003e\",\"legendgroup\":\"\",\"marker\":{\"color\":[0,0,0,0,0,0,0,0,0,0,0,0,0,0,0,0,0,0,0,0,0,0,0,0,0,0,0,0,0,0,0,0,0,0,0,0,0,0,0,0,0,0,0,0,0,0,0,0,0,0,0,0,0,0,0,0,0,0,0,0,0,0,0,0,0,0,0,0,0,0,1,1,1,1,1,1,1,1,1,1,1,1,1,1,1,1,1,1,1,1,1,1,1,1,1,1,1,1,1,1,1,1,1,1,1,1,1,1,1,1,1,1,1,1,1,1,1,1,1,1,1,1,1,1,1,1,1,1,1,1,1,1,1,1,1,1,1,1,1,1,2,2,2,2,2,2,2,2,2,2,2,2,2,2,2,2,2,2,2,2,2,2,2,2,2,2,2,2,2,2,2,2,2,2,2,2,2,2,2,2,2,2,2,2,2,2,2,2,2,2,2,2,2,2,2,2,2,2,2,2,2,2,2,2,2,2,2,2,2,2],\"coloraxis\":\"coloraxis\",\"symbol\":\"circle\"},\"name\":\"\",\"showlegend\":false,\"type\":\"splom\",\"diagonal\":{\"visible\":false}}],                        {\"template\":{\"data\":{\"histogram2dcontour\":[{\"type\":\"histogram2dcontour\",\"colorbar\":{\"outlinewidth\":0,\"ticks\":\"\"},\"colorscale\":[[0.0,\"#0d0887\"],[0.1111111111111111,\"#46039f\"],[0.2222222222222222,\"#7201a8\"],[0.3333333333333333,\"#9c179e\"],[0.4444444444444444,\"#bd3786\"],[0.5555555555555556,\"#d8576b\"],[0.6666666666666666,\"#ed7953\"],[0.7777777777777778,\"#fb9f3a\"],[0.8888888888888888,\"#fdca26\"],[1.0,\"#f0f921\"]]}],\"choropleth\":[{\"type\":\"choropleth\",\"colorbar\":{\"outlinewidth\":0,\"ticks\":\"\"}}],\"histogram2d\":[{\"type\":\"histogram2d\",\"colorbar\":{\"outlinewidth\":0,\"ticks\":\"\"},\"colorscale\":[[0.0,\"#0d0887\"],[0.1111111111111111,\"#46039f\"],[0.2222222222222222,\"#7201a8\"],[0.3333333333333333,\"#9c179e\"],[0.4444444444444444,\"#bd3786\"],[0.5555555555555556,\"#d8576b\"],[0.6666666666666666,\"#ed7953\"],[0.7777777777777778,\"#fb9f3a\"],[0.8888888888888888,\"#fdca26\"],[1.0,\"#f0f921\"]]}],\"heatmap\":[{\"type\":\"heatmap\",\"colorbar\":{\"outlinewidth\":0,\"ticks\":\"\"},\"colorscale\":[[0.0,\"#0d0887\"],[0.1111111111111111,\"#46039f\"],[0.2222222222222222,\"#7201a8\"],[0.3333333333333333,\"#9c179e\"],[0.4444444444444444,\"#bd3786\"],[0.5555555555555556,\"#d8576b\"],[0.6666666666666666,\"#ed7953\"],[0.7777777777777778,\"#fb9f3a\"],[0.8888888888888888,\"#fdca26\"],[1.0,\"#f0f921\"]]}],\"heatmapgl\":[{\"type\":\"heatmapgl\",\"colorbar\":{\"outlinewidth\":0,\"ticks\":\"\"},\"colorscale\":[[0.0,\"#0d0887\"],[0.1111111111111111,\"#46039f\"],[0.2222222222222222,\"#7201a8\"],[0.3333333333333333,\"#9c179e\"],[0.4444444444444444,\"#bd3786\"],[0.5555555555555556,\"#d8576b\"],[0.6666666666666666,\"#ed7953\"],[0.7777777777777778,\"#fb9f3a\"],[0.8888888888888888,\"#fdca26\"],[1.0,\"#f0f921\"]]}],\"contourcarpet\":[{\"type\":\"contourcarpet\",\"colorbar\":{\"outlinewidth\":0,\"ticks\":\"\"}}],\"contour\":[{\"type\":\"contour\",\"colorbar\":{\"outlinewidth\":0,\"ticks\":\"\"},\"colorscale\":[[0.0,\"#0d0887\"],[0.1111111111111111,\"#46039f\"],[0.2222222222222222,\"#7201a8\"],[0.3333333333333333,\"#9c179e\"],[0.4444444444444444,\"#bd3786\"],[0.5555555555555556,\"#d8576b\"],[0.6666666666666666,\"#ed7953\"],[0.7777777777777778,\"#fb9f3a\"],[0.8888888888888888,\"#fdca26\"],[1.0,\"#f0f921\"]]}],\"surface\":[{\"type\":\"surface\",\"colorbar\":{\"outlinewidth\":0,\"ticks\":\"\"},\"colorscale\":[[0.0,\"#0d0887\"],[0.1111111111111111,\"#46039f\"],[0.2222222222222222,\"#7201a8\"],[0.3333333333333333,\"#9c179e\"],[0.4444444444444444,\"#bd3786\"],[0.5555555555555556,\"#d8576b\"],[0.6666666666666666,\"#ed7953\"],[0.7777777777777778,\"#fb9f3a\"],[0.8888888888888888,\"#fdca26\"],[1.0,\"#f0f921\"]]}],\"mesh3d\":[{\"type\":\"mesh3d\",\"colorbar\":{\"outlinewidth\":0,\"ticks\":\"\"}}],\"scatter\":[{\"fillpattern\":{\"fillmode\":\"overlay\",\"size\":10,\"solidity\":0.2},\"type\":\"scatter\"}],\"parcoords\":[{\"type\":\"parcoords\",\"line\":{\"colorbar\":{\"outlinewidth\":0,\"ticks\":\"\"}}}],\"scatterpolargl\":[{\"type\":\"scatterpolargl\",\"marker\":{\"colorbar\":{\"outlinewidth\":0,\"ticks\":\"\"}}}],\"bar\":[{\"error_x\":{\"color\":\"#2a3f5f\"},\"error_y\":{\"color\":\"#2a3f5f\"},\"marker\":{\"line\":{\"color\":\"#E5ECF6\",\"width\":0.5},\"pattern\":{\"fillmode\":\"overlay\",\"size\":10,\"solidity\":0.2}},\"type\":\"bar\"}],\"scattergeo\":[{\"type\":\"scattergeo\",\"marker\":{\"colorbar\":{\"outlinewidth\":0,\"ticks\":\"\"}}}],\"scatterpolar\":[{\"type\":\"scatterpolar\",\"marker\":{\"colorbar\":{\"outlinewidth\":0,\"ticks\":\"\"}}}],\"histogram\":[{\"marker\":{\"pattern\":{\"fillmode\":\"overlay\",\"size\":10,\"solidity\":0.2}},\"type\":\"histogram\"}],\"scattergl\":[{\"type\":\"scattergl\",\"marker\":{\"colorbar\":{\"outlinewidth\":0,\"ticks\":\"\"}}}],\"scatter3d\":[{\"type\":\"scatter3d\",\"line\":{\"colorbar\":{\"outlinewidth\":0,\"ticks\":\"\"}},\"marker\":{\"colorbar\":{\"outlinewidth\":0,\"ticks\":\"\"}}}],\"scattermapbox\":[{\"type\":\"scattermapbox\",\"marker\":{\"colorbar\":{\"outlinewidth\":0,\"ticks\":\"\"}}}],\"scatterternary\":[{\"type\":\"scatterternary\",\"marker\":{\"colorbar\":{\"outlinewidth\":0,\"ticks\":\"\"}}}],\"scattercarpet\":[{\"type\":\"scattercarpet\",\"marker\":{\"colorbar\":{\"outlinewidth\":0,\"ticks\":\"\"}}}],\"carpet\":[{\"aaxis\":{\"endlinecolor\":\"#2a3f5f\",\"gridcolor\":\"white\",\"linecolor\":\"white\",\"minorgridcolor\":\"white\",\"startlinecolor\":\"#2a3f5f\"},\"baxis\":{\"endlinecolor\":\"#2a3f5f\",\"gridcolor\":\"white\",\"linecolor\":\"white\",\"minorgridcolor\":\"white\",\"startlinecolor\":\"#2a3f5f\"},\"type\":\"carpet\"}],\"table\":[{\"cells\":{\"fill\":{\"color\":\"#EBF0F8\"},\"line\":{\"color\":\"white\"}},\"header\":{\"fill\":{\"color\":\"#C8D4E3\"},\"line\":{\"color\":\"white\"}},\"type\":\"table\"}],\"barpolar\":[{\"marker\":{\"line\":{\"color\":\"#E5ECF6\",\"width\":0.5},\"pattern\":{\"fillmode\":\"overlay\",\"size\":10,\"solidity\":0.2}},\"type\":\"barpolar\"}],\"pie\":[{\"automargin\":true,\"type\":\"pie\"}]},\"layout\":{\"autotypenumbers\":\"strict\",\"colorway\":[\"#636efa\",\"#EF553B\",\"#00cc96\",\"#ab63fa\",\"#FFA15A\",\"#19d3f3\",\"#FF6692\",\"#B6E880\",\"#FF97FF\",\"#FECB52\"],\"font\":{\"color\":\"#2a3f5f\"},\"hovermode\":\"closest\",\"hoverlabel\":{\"align\":\"left\"},\"paper_bgcolor\":\"white\",\"plot_bgcolor\":\"#E5ECF6\",\"polar\":{\"bgcolor\":\"#E5ECF6\",\"angularaxis\":{\"gridcolor\":\"white\",\"linecolor\":\"white\",\"ticks\":\"\"},\"radialaxis\":{\"gridcolor\":\"white\",\"linecolor\":\"white\",\"ticks\":\"\"}},\"ternary\":{\"bgcolor\":\"#E5ECF6\",\"aaxis\":{\"gridcolor\":\"white\",\"linecolor\":\"white\",\"ticks\":\"\"},\"baxis\":{\"gridcolor\":\"white\",\"linecolor\":\"white\",\"ticks\":\"\"},\"caxis\":{\"gridcolor\":\"white\",\"linecolor\":\"white\",\"ticks\":\"\"}},\"coloraxis\":{\"colorbar\":{\"outlinewidth\":0,\"ticks\":\"\"}},\"colorscale\":{\"sequential\":[[0.0,\"#0d0887\"],[0.1111111111111111,\"#46039f\"],[0.2222222222222222,\"#7201a8\"],[0.3333333333333333,\"#9c179e\"],[0.4444444444444444,\"#bd3786\"],[0.5555555555555556,\"#d8576b\"],[0.6666666666666666,\"#ed7953\"],[0.7777777777777778,\"#fb9f3a\"],[0.8888888888888888,\"#fdca26\"],[1.0,\"#f0f921\"]],\"sequentialminus\":[[0.0,\"#0d0887\"],[0.1111111111111111,\"#46039f\"],[0.2222222222222222,\"#7201a8\"],[0.3333333333333333,\"#9c179e\"],[0.4444444444444444,\"#bd3786\"],[0.5555555555555556,\"#d8576b\"],[0.6666666666666666,\"#ed7953\"],[0.7777777777777778,\"#fb9f3a\"],[0.8888888888888888,\"#fdca26\"],[1.0,\"#f0f921\"]],\"diverging\":[[0,\"#8e0152\"],[0.1,\"#c51b7d\"],[0.2,\"#de77ae\"],[0.3,\"#f1b6da\"],[0.4,\"#fde0ef\"],[0.5,\"#f7f7f7\"],[0.6,\"#e6f5d0\"],[0.7,\"#b8e186\"],[0.8,\"#7fbc41\"],[0.9,\"#4d9221\"],[1,\"#276419\"]]},\"xaxis\":{\"gridcolor\":\"white\",\"linecolor\":\"white\",\"ticks\":\"\",\"title\":{\"standoff\":15},\"zerolinecolor\":\"white\",\"automargin\":true,\"zerolinewidth\":2},\"yaxis\":{\"gridcolor\":\"white\",\"linecolor\":\"white\",\"ticks\":\"\",\"title\":{\"standoff\":15},\"zerolinecolor\":\"white\",\"automargin\":true,\"zerolinewidth\":2},\"scene\":{\"xaxis\":{\"backgroundcolor\":\"#E5ECF6\",\"gridcolor\":\"white\",\"linecolor\":\"white\",\"showbackground\":true,\"ticks\":\"\",\"zerolinecolor\":\"white\",\"gridwidth\":2},\"yaxis\":{\"backgroundcolor\":\"#E5ECF6\",\"gridcolor\":\"white\",\"linecolor\":\"white\",\"showbackground\":true,\"ticks\":\"\",\"zerolinecolor\":\"white\",\"gridwidth\":2},\"zaxis\":{\"backgroundcolor\":\"#E5ECF6\",\"gridcolor\":\"white\",\"linecolor\":\"white\",\"showbackground\":true,\"ticks\":\"\",\"zerolinecolor\":\"white\",\"gridwidth\":2}},\"shapedefaults\":{\"line\":{\"color\":\"#2a3f5f\"}},\"annotationdefaults\":{\"arrowcolor\":\"#2a3f5f\",\"arrowhead\":0,\"arrowwidth\":1},\"geo\":{\"bgcolor\":\"white\",\"landcolor\":\"#E5ECF6\",\"subunitcolor\":\"white\",\"showland\":true,\"showlakes\":true,\"lakecolor\":\"white\"},\"title\":{\"x\":0.05},\"mapbox\":{\"style\":\"light\"}}},\"coloraxis\":{\"colorbar\":{\"title\":{\"text\":\"target\"}},\"colorscale\":[[0.0,\"#0d0887\"],[0.1111111111111111,\"#46039f\"],[0.2222222222222222,\"#7201a8\"],[0.3333333333333333,\"#9c179e\"],[0.4444444444444444,\"#bd3786\"],[0.5555555555555556,\"#d8576b\"],[0.6666666666666666,\"#ed7953\"],[0.7777777777777778,\"#fb9f3a\"],[0.8888888888888888,\"#fdca26\"],[1.0,\"#f0f921\"]]},\"legend\":{\"tracegroupgap\":0},\"margin\":{\"t\":60},\"dragmode\":\"select\",\"annotations\":[{\"font\":{\"color\":\"#EF553B\",\"size\":12},\"showarrow\":false,\"text\":\"*Roll No. 5, 9\",\"x\":0.5,\"xref\":\"paper\",\"y\":1.1,\"yref\":\"paper\"}]},                        {\"responsive\": true}                    ).then(function(){\n",
       "                            \n",
       "var gd = document.getElementById('31b58868-105b-4891-83d7-ae6c1eacd149');\n",
       "var x = new MutationObserver(function (mutations, observer) {{\n",
       "        var display = window.getComputedStyle(gd).display;\n",
       "        if (!display || display === 'none') {{\n",
       "            console.log([gd, 'removed!']);\n",
       "            Plotly.purge(gd);\n",
       "            observer.disconnect();\n",
       "        }}\n",
       "}});\n",
       "\n",
       "// Listen for the removal of the full notebook cells\n",
       "var notebookContainer = gd.closest('#notebook-container');\n",
       "if (notebookContainer) {{\n",
       "    x.observe(notebookContainer, {childList: true});\n",
       "}}\n",
       "\n",
       "// Listen for the clearing of the current output cell\n",
       "var outputEl = gd.closest('.output');\n",
       "if (outputEl) {{\n",
       "    x.observe(outputEl, {childList: true});\n",
       "}}\n",
       "\n",
       "                        })                };                });            </script>        </div>"
      ]
     },
     "metadata": {},
     "output_type": "display_data"
    }
   ],
   "source": [
    "import plotly.express as px\n",
    "\n",
    "# Assuming 'df' is the loaded dataframe containing the wheat seed dataset\n",
    "\n",
    "features =['A', 'P', 'C', 'LK', 'WK', 'A_Coef', 'LKG']\n",
    "\n",
    "fig = px.scatter_matrix(\n",
    "    df,\n",
    "    dimensions=features,\n",
    "    color=\"target\",\n",
    "    \n",
    ")\n",
    "fig.update_traces(diagonal_visible=False)\n",
    "fig.add_annotation(\n",
    "    x=0.5, y=1.1, xref=\"paper\", yref=\"paper\",\n",
    "    text=\"*Roll No. 5, 9\", showarrow=False,\n",
    "    font=dict(size=12, color=px.colors.qualitative.Plotly[1])\n",
    ")\n",
    "fig.show()\n"
   ]
  },
  {
   "cell_type": "code",
   "execution_count": null,
   "id": "a6960fa0",
   "metadata": {},
   "outputs": [],
   "source": []
  },
  {
   "cell_type": "code",
   "execution_count": 67,
   "id": "1ae67f32",
   "metadata": {},
   "outputs": [
    {
     "data": {
      "application/vnd.plotly.v1+json": {
       "config": {
        "plotlyServerURL": "https://plot.ly"
       },
       "data": [
        {
         "diagonal": {
          "visible": false
         },
         "dimensions": [
          {
           "axis": {
            "matches": true
           },
           "label": "A",
           "values": [
            15.26,
            14.88,
            14.29,
            13.84,
            16.14,
            14.38,
            14.69,
            14.11,
            16.63,
            16.44,
            15.26,
            14.03,
            13.89,
            13.78,
            13.74,
            14.59,
            13.99,
            15.69,
            14.7,
            12.72,
            14.16,
            14.11,
            15.88,
            12.08,
            15.01,
            16.19,
            13.02,
            12.74,
            14.11,
            13.45,
            13.16,
            15.49,
            14.09,
            13.94,
            15.05,
            16.12,
            16.2,
            17.08,
            14.8,
            14.28,
            13.54,
            13.5,
            13.16,
            15.5,
            15.11,
            13.8,
            15.36,
            14.99,
            14.79,
            14.86,
            14.43,
            15.78,
            14.49,
            14.33,
            14.52,
            15.03,
            14.46,
            14.92,
            15.38,
            12.11,
            11.42,
            11.23,
            12.36,
            13.22,
            12.78,
            12.88,
            14.34,
            14.01,
            14.37,
            12.73
           ]
          },
          {
           "axis": {
            "matches": true
           },
           "label": "P",
           "values": [
            14.84,
            14.57,
            14.09,
            13.94,
            14.99,
            14.21,
            14.49,
            14.1,
            15.46,
            15.25,
            14.85,
            14.16,
            14.02,
            14.06,
            14.05,
            14.28,
            13.83,
            14.75,
            14.21,
            13.57,
            14.4,
            14.26,
            14.9,
            13.23,
            14.76,
            15.16,
            13.76,
            13.67,
            14.18,
            14.02,
            13.82,
            14.94,
            14.41,
            14.17,
            14.68,
            15,
            15.27,
            15.38,
            14.52,
            14.17,
            13.85,
            13.85,
            13.55,
            14.86,
            14.54,
            14.04,
            14.76,
            14.56,
            14.52,
            14.67,
            14.4,
            14.91,
            14.61,
            14.28,
            14.6,
            14.77,
            14.35,
            14.43,
            14.77,
            13.47,
            12.86,
            12.63,
            13.19,
            13.84,
            13.57,
            13.5,
            14.37,
            14.29,
            14.39,
            13.75
           ]
          },
          {
           "axis": {
            "matches": true
           },
           "label": "C",
           "values": [
            0.871,
            0.8811,
            0.905,
            0.8955,
            0.9034,
            0.8951,
            0.8799,
            0.8911,
            0.8747,
            0.888,
            0.8696,
            0.8796,
            0.888,
            0.8759,
            0.8744,
            0.8993,
            0.9183,
            0.9058,
            0.9153,
            0.8686,
            0.8584,
            0.8722,
            0.8988,
            0.8664,
            0.8657,
            0.8849,
            0.8641,
            0.8564,
            0.882,
            0.8604,
            0.8662,
            0.8724,
            0.8529,
            0.8728,
            0.8779,
            0.9,
            0.8734,
            0.9079,
            0.8823,
            0.8944,
            0.8871,
            0.8852,
            0.9009,
            0.882,
            0.8986,
            0.8794,
            0.8861,
            0.8883,
            0.8819,
            0.8676,
            0.8751,
            0.8923,
            0.8538,
            0.8831,
            0.8557,
            0.8658,
            0.8818,
            0.9006,
            0.8857,
            0.8392,
            0.8683,
            0.884,
            0.8923,
            0.868,
            0.8716,
            0.8879,
            0.8726,
            0.8625,
            0.8726,
            0.8458
           ]
          },
          {
           "axis": {
            "matches": true
           },
           "label": "LK",
           "values": [
            5.763,
            5.554,
            5.291,
            5.324,
            5.658,
            5.386,
            5.563,
            5.42,
            6.053,
            5.884,
            5.714,
            5.438,
            5.439,
            5.479,
            5.482,
            5.351,
            5.119,
            5.527,
            5.205,
            5.226,
            5.658,
            5.52,
            5.618,
            5.099,
            5.789,
            5.833,
            5.395,
            5.395,
            5.541,
            5.516,
            5.454,
            5.757,
            5.717,
            5.585,
            5.712,
            5.709,
            5.826,
            5.832,
            5.656,
            5.397,
            5.348,
            5.351,
            5.138,
            5.877,
            5.579,
            5.376,
            5.701,
            5.57,
            5.545,
            5.678,
            5.585,
            5.674,
            5.715,
            5.504,
            5.741,
            5.702,
            5.388,
            5.384,
            5.662,
            5.159,
            5.008,
            4.902,
            5.076,
            5.395,
            5.262,
            5.139,
            5.63,
            5.609,
            5.569,
            5.412
           ]
          },
          {
           "axis": {
            "matches": true
           },
           "label": "WK",
           "values": [
            3.312,
            3.333,
            3.337,
            3.379,
            3.562,
            3.312,
            3.259,
            3.302,
            3.465,
            3.505,
            3.242,
            3.201,
            3.199,
            3.156,
            3.114,
            3.333,
            3.383,
            3.514,
            3.466,
            3.049,
            3.129,
            3.168,
            3.507,
            2.936,
            3.245,
            3.421,
            3.026,
            2.956,
            3.221,
            3.065,
            2.975,
            3.371,
            3.186,
            3.15,
            3.328,
            3.485,
            3.464,
            3.683,
            3.288,
            3.298,
            3.156,
            3.158,
            3.201,
            3.396,
            3.462,
            3.155,
            3.393,
            3.377,
            3.291,
            3.258,
            3.272,
            3.434,
            3.113,
            3.199,
            3.113,
            3.212,
            3.377,
            3.412,
            3.419,
            3.032,
            2.85,
            2.879,
            3.042,
            3.07,
            3.026,
            3.119,
            3.19,
            3.158,
            3.153,
            2.882
           ]
          },
          {
           "axis": {
            "matches": true
           },
           "label": "A_Coef",
           "values": [
            2.221,
            1.018,
            2.699,
            2.259,
            1.355,
            2.462,
            3.586,
            2.7,
            2.04,
            1.969,
            4.543,
            1.717,
            3.986,
            3.136,
            2.932,
            4.185,
            5.234,
            1.599,
            1.767,
            4.102,
            3.072,
            2.688,
            0.7651,
            1.415,
            1.791,
            0.903,
            3.373,
            2.504,
            2.754,
            3.531,
            0.8551,
            3.412,
            3.92,
            2.124,
            2.129,
            2.27,
            2.823,
            2.956,
            3.112,
            6.685,
            2.587,
            2.249,
            2.461,
            4.711,
            3.128,
            1.56,
            1.367,
            2.958,
            2.704,
            2.129,
            3.975,
            5.593,
            4.116,
            3.328,
            1.481,
            1.933,
            2.802,
            1.142,
            1.999,
            1.502,
            2.7,
            2.269,
            3.22,
            4.157,
            1.176,
            2.352,
            1.313,
            2.217,
            1.464,
            3.533
           ]
          },
          {
           "axis": {
            "matches": true
           },
           "label": "LKG",
           "values": [
            5.22,
            4.956,
            4.825,
            4.805,
            5.175,
            4.956,
            5.219,
            5,
            5.877,
            5.533,
            5.314,
            5.001,
            4.738,
            4.872,
            4.825,
            4.781,
            4.781,
            5.046,
            4.649,
            4.914,
            5.176,
            5.219,
            5.091,
            4.961,
            5.001,
            5.307,
            4.825,
            4.869,
            5.038,
            5.097,
            5.056,
            5.228,
            5.299,
            5.012,
            5.36,
            5.443,
            5.527,
            5.484,
            5.309,
            5.001,
            5.178,
            5.176,
            4.783,
            5.528,
            5.18,
            4.961,
            5.132,
            5.175,
            5.111,
            5.351,
            5.144,
            5.136,
            5.396,
            5.224,
            5.487,
            5.439,
            5.044,
            5.088,
            5.222,
            4.519,
            4.607,
            4.703,
            4.605,
            5.088,
            4.782,
            4.607,
            5.15,
            5.132,
            5.3,
            5.067
           ]
          }
         ],
         "hovertemplate": "target=%{marker.color}<br>%{xaxis.title.text}=%{x}<br>%{yaxis.title.text}=%{y}<extra></extra>",
         "legendgroup": "0",
         "marker": {
          "color": [
           0,
           0,
           0,
           0,
           0,
           0,
           0,
           0,
           0,
           0,
           0,
           0,
           0,
           0,
           0,
           0,
           0,
           0,
           0,
           0,
           0,
           0,
           0,
           0,
           0,
           0,
           0,
           0,
           0,
           0,
           0,
           0,
           0,
           0,
           0,
           0,
           0,
           0,
           0,
           0,
           0,
           0,
           0,
           0,
           0,
           0,
           0,
           0,
           0,
           0,
           0,
           0,
           0,
           0,
           0,
           0,
           0,
           0,
           0,
           0,
           0,
           0,
           0,
           0,
           0,
           0,
           0,
           0,
           0,
           0
          ],
          "coloraxis": "coloraxis",
          "symbol": "x"
         },
         "name": "0",
         "showlegend": true,
         "type": "splom"
        },
        {
         "diagonal": {
          "visible": false
         },
         "dimensions": [
          {
           "axis": {
            "matches": true
           },
           "label": "A",
           "values": [
            17.63,
            16.84,
            17.26,
            19.11,
            16.82,
            16.77,
            17.32,
            20.71,
            18.94,
            17.12,
            16.53,
            18.72,
            20.2,
            19.57,
            19.51,
            18.27,
            18.88,
            18.98,
            21.18,
            20.88,
            20.1,
            18.76,
            18.81,
            18.59,
            18.36,
            16.87,
            19.31,
            18.98,
            18.17,
            18.72,
            16.41,
            17.99,
            19.46,
            19.18,
            18.95,
            18.83,
            18.85,
            17.63,
            19.94,
            18.55,
            18.45,
            19.38,
            19.13,
            19.14,
            20.97,
            19.06,
            18.96,
            19.15,
            18.89,
            20.03,
            20.24,
            18.14,
            16.17,
            18.43,
            15.99,
            18.75,
            18.65,
            17.98,
            20.16,
            17.55,
            18.3,
            18.94,
            15.38,
            16.16,
            15.56,
            15.38,
            17.36,
            15.57,
            15.6,
            16.23
           ]
          },
          {
           "axis": {
            "matches": true
           },
           "label": "P",
           "values": [
            15.98,
            15.67,
            15.73,
            16.26,
            15.51,
            15.62,
            15.91,
            17.23,
            16.49,
            15.55,
            15.34,
            16.19,
            16.89,
            16.74,
            16.71,
            16.09,
            16.26,
            16.66,
            17.21,
            17.05,
            16.99,
            16.2,
            16.29,
            16.05,
            16.52,
            15.65,
            16.59,
            16.57,
            16.26,
            16.34,
            15.25,
            15.86,
            16.5,
            16.63,
            16.42,
            16.29,
            16.17,
            15.86,
            16.92,
            16.22,
            16.12,
            16.72,
            16.31,
            16.61,
            17.25,
            16.45,
            16.2,
            16.45,
            16.23,
            16.9,
            16.91,
            16.12,
            15.38,
            15.97,
            14.89,
            16.18,
            16.41,
            15.85,
            17.03,
            15.66,
            15.89,
            16.32,
            14.9,
            15.33,
            14.89,
            14.66,
            15.76,
            15.15,
            15.11,
            15.18
           ]
          },
          {
           "axis": {
            "matches": true
           },
           "label": "C",
           "values": [
            0.8673,
            0.8623,
            0.8763,
            0.9081,
            0.8786,
            0.8638,
            0.8599,
            0.8763,
            0.875,
            0.8892,
            0.8823,
            0.8977,
            0.8894,
            0.8779,
            0.878,
            0.887,
            0.8969,
            0.859,
            0.8989,
            0.9031,
            0.8746,
            0.8984,
            0.8906,
            0.9066,
            0.8452,
            0.8648,
            0.8815,
            0.8687,
            0.8637,
            0.881,
            0.8866,
            0.8992,
            0.8985,
            0.8717,
            0.8829,
            0.8917,
            0.9056,
            0.88,
            0.8752,
            0.8865,
            0.8921,
            0.8716,
            0.9035,
            0.8722,
            0.8859,
            0.8854,
            0.9077,
            0.889,
            0.9008,
            0.8811,
            0.8897,
            0.8772,
            0.8588,
            0.9077,
            0.9064,
            0.8999,
            0.8698,
            0.8993,
            0.8735,
            0.8991,
            0.9108,
            0.8942,
            0.8706,
            0.8644,
            0.8823,
            0.899,
            0.8785,
            0.8527,
            0.858,
            0.885
           ]
          },
          {
           "axis": {
            "matches": true
           },
           "label": "LK",
           "values": [
            6.191,
            5.998,
            5.978,
            6.154,
            6.017,
            5.927,
            6.064,
            6.579,
            6.445,
            5.85,
            5.875,
            6.006,
            6.285,
            6.384,
            6.366,
            6.173,
            6.084,
            6.549,
            6.573,
            6.45,
            6.581,
            6.172,
            6.272,
            6.037,
            6.666,
            6.139,
            6.341,
            6.449,
            6.271,
            6.219,
            5.718,
            5.89,
            6.113,
            6.369,
            6.248,
            6.037,
            6.152,
            6.033,
            6.675,
            6.153,
            6.107,
            6.303,
            6.183,
            6.259,
            6.563,
            6.416,
            6.051,
            6.245,
            6.227,
            6.493,
            6.315,
            6.059,
            5.762,
            5.98,
            5.363,
            6.111,
            6.285,
            5.979,
            6.513,
            5.791,
            5.979,
            6.144,
            5.884,
            5.845,
            5.776,
            5.477,
            6.145,
            5.92,
            5.832,
            5.872
           ]
          },
          {
           "axis": {
            "matches": true
           },
           "label": "WK",
           "values": [
            3.561,
            3.484,
            3.594,
            3.93,
            3.486,
            3.438,
            3.403,
            3.814,
            3.639,
            3.566,
            3.467,
            3.857,
            3.864,
            3.772,
            3.801,
            3.651,
            3.764,
            3.67,
            4.033,
            4.032,
            3.785,
            3.796,
            3.693,
            3.86,
            3.485,
            3.463,
            3.81,
            3.552,
            3.512,
            3.684,
            3.525,
            3.694,
            3.892,
            3.681,
            3.755,
            3.786,
            3.806,
            3.573,
            3.763,
            3.674,
            3.769,
            3.791,
            3.902,
            3.737,
            3.991,
            3.719,
            3.897,
            3.815,
            3.769,
            3.857,
            3.962,
            3.563,
            3.387,
            3.771,
            3.582,
            3.869,
            3.594,
            3.687,
            3.773,
            3.69,
            3.755,
            3.825,
            3.268,
            3.395,
            3.408,
            3.465,
            3.574,
            3.231,
            3.286,
            3.472
           ]
          },
          {
           "axis": {
            "matches": true
           },
           "label": "A_Coef",
           "values": [
            4.076,
            4.675,
            4.539,
            2.936,
            4.004,
            4.92,
            3.824,
            4.451,
            5.064,
            2.858,
            5.532,
            5.324,
            5.173,
            1.472,
            2.962,
            2.443,
            1.649,
            3.691,
            5.78,
            5.016,
            1.955,
            3.12,
            3.237,
            6.001,
            4.933,
            3.696,
            3.477,
            2.144,
            2.853,
            2.188,
            4.217,
            2.068,
            4.308,
            3.357,
            3.368,
            2.553,
            2.843,
            3.747,
            3.252,
            1.738,
            2.235,
            3.678,
            2.109,
            6.682,
            4.677,
            2.248,
            4.334,
            3.084,
            3.639,
            3.063,
            5.901,
            3.619,
            4.286,
            2.984,
            3.336,
            4.188,
            4.391,
            2.257,
            1.91,
            5.366,
            2.837,
            2.908,
            4.462,
            4.266,
            4.972,
            3.6,
            3.526,
            2.64,
            2.725,
            3.769
           ]
          },
          {
           "axis": {
            "matches": true
           },
           "label": "LKG",
           "values": [
            6.06,
            5.877,
            5.791,
            6.079,
            5.841,
            5.795,
            5.922,
            6.451,
            6.362,
            5.746,
            5.88,
            5.879,
            6.187,
            6.273,
            6.185,
            6.197,
            6.109,
            6.498,
            6.231,
            6.321,
            6.449,
            6.053,
            6.053,
            5.877,
            6.448,
            5.967,
            6.238,
            6.453,
            6.273,
            6.097,
            5.618,
            5.837,
            6.009,
            6.229,
            6.148,
            5.879,
            6.2,
            5.929,
            6.55,
            5.894,
            5.794,
            5.965,
            5.924,
            6.053,
            6.316,
            6.163,
            5.75,
            6.185,
            5.966,
            6.32,
            6.188,
            6.011,
            5.703,
            5.905,
            5.144,
            5.992,
            6.102,
            5.919,
            6.185,
            5.661,
            5.962,
            5.949,
            5.795,
            5.795,
            5.847,
            5.439,
            5.971,
            5.879,
            5.752,
            5.922
           ]
          }
         ],
         "hovertemplate": "target=%{marker.color}<br>%{xaxis.title.text}=%{x}<br>%{yaxis.title.text}=%{y}<extra></extra>",
         "legendgroup": "1",
         "marker": {
          "color": [
           1,
           1,
           1,
           1,
           1,
           1,
           1,
           1,
           1,
           1,
           1,
           1,
           1,
           1,
           1,
           1,
           1,
           1,
           1,
           1,
           1,
           1,
           1,
           1,
           1,
           1,
           1,
           1,
           1,
           1,
           1,
           1,
           1,
           1,
           1,
           1,
           1,
           1,
           1,
           1,
           1,
           1,
           1,
           1,
           1,
           1,
           1,
           1,
           1,
           1,
           1,
           1,
           1,
           1,
           1,
           1,
           1,
           1,
           1,
           1,
           1,
           1,
           1,
           1,
           1,
           1,
           1,
           1,
           1,
           1
          ],
          "coloraxis": "coloraxis",
          "symbol": "cross"
         },
         "name": "1",
         "showlegend": true,
         "type": "splom"
        },
        {
         "diagonal": {
          "visible": false
         },
         "dimensions": [
          {
           "axis": {
            "matches": true
           },
           "label": "A",
           "values": [
            13.07,
            13.32,
            13.34,
            12.22,
            11.82,
            11.21,
            11.43,
            12.49,
            12.7,
            10.79,
            11.83,
            12.01,
            12.26,
            11.18,
            11.36,
            11.19,
            11.34,
            12.13,
            11.75,
            11.49,
            12.54,
            12.02,
            12.05,
            12.55,
            11.14,
            12.1,
            12.44,
            12.15,
            11.35,
            11.24,
            11.02,
            11.55,
            11.27,
            11.4,
            10.83,
            10.8,
            11.26,
            10.74,
            11.48,
            12.21,
            11.41,
            12.46,
            12.19,
            11.65,
            12.89,
            11.56,
            11.81,
            10.91,
            11.23,
            10.59,
            10.93,
            11.27,
            11.87,
            10.82,
            12.11,
            12.8,
            12.79,
            13.37,
            12.62,
            12.76,
            12.38,
            12.67,
            11.18,
            12.7,
            12.37,
            12.19,
            11.23,
            13.2,
            11.84,
            12.3
           ]
          },
          {
           "axis": {
            "matches": true
           },
           "label": "P",
           "values": [
            13.92,
            13.94,
            13.95,
            13.32,
            13.4,
            13.13,
            13.13,
            13.46,
            13.71,
            12.93,
            13.23,
            13.52,
            13.6,
            13.04,
            13.05,
            13.05,
            12.87,
            13.73,
            13.52,
            13.22,
            13.67,
            13.33,
            13.41,
            13.57,
            12.79,
            13.15,
            13.59,
            13.45,
            13.12,
            13,
            13,
            13.1,
            12.97,
            13.08,
            12.96,
            12.57,
            13.01,
            12.73,
            13.05,
            13.47,
            12.95,
            13.41,
            13.36,
            13.07,
            13.77,
            13.31,
            13.45,
            12.8,
            12.82,
            12.41,
            12.8,
            12.86,
            13.02,
            12.83,
            13.27,
            13.47,
            13.53,
            13.78,
            13.67,
            13.38,
            13.44,
            13.32,
            12.72,
            13.41,
            13.47,
            13.2,
            12.88,
            13.66,
            13.21,
            13.34
           ]
          },
          {
           "axis": {
            "matches": true
           },
           "label": "C",
           "values": [
            0.848,
            0.8613,
            0.862,
            0.8652,
            0.8274,
            0.8167,
            0.8335,
            0.8658,
            0.8491,
            0.8107,
            0.8496,
            0.8249,
            0.8333,
            0.8266,
            0.8382,
            0.8253,
            0.8596,
            0.8081,
            0.8082,
            0.8263,
            0.8425,
            0.8503,
            0.8416,
            0.8558,
            0.8558,
            0.8793,
            0.8462,
            0.8443,
            0.8291,
            0.8359,
            0.8189,
            0.8455,
            0.8419,
            0.8375,
            0.8099,
            0.859,
            0.8355,
            0.8329,
            0.8473,
            0.8453,
            0.856,
            0.8706,
            0.8579,
            0.8575,
            0.8541,
            0.8198,
            0.8198,
            0.8372,
            0.8594,
            0.8648,
            0.839,
            0.8563,
            0.8795,
            0.8256,
            0.8639,
            0.886,
            0.8786,
            0.8849,
            0.8481,
            0.8964,
            0.8609,
            0.8977,
            0.868,
            0.8874,
            0.8567,
            0.8783,
            0.8511,
            0.8883,
            0.8521,
            0.8684
           ]
          },
          {
           "axis": {
            "matches": true
           },
           "label": "LK",
           "values": [
            5.472,
            5.541,
            5.389,
            5.224,
            5.314,
            5.279,
            5.176,
            5.267,
            5.386,
            5.317,
            5.263,
            5.405,
            5.408,
            5.22,
            5.175,
            5.25,
            5.053,
            5.394,
            5.444,
            5.304,
            5.451,
            5.35,
            5.267,
            5.333,
            5.011,
            5.105,
            5.319,
            5.417,
            5.176,
            5.09,
            5.325,
            5.167,
            5.088,
            5.136,
            5.278,
            4.981,
            5.186,
            5.145,
            5.18,
            5.357,
            5.09,
            5.236,
            5.24,
            5.108,
            5.495,
            5.363,
            5.413,
            5.088,
            5.089,
            4.899,
            5.046,
            5.091,
            5.132,
            5.18,
            5.236,
            5.16,
            5.224,
            5.32,
            5.41,
            5.073,
            5.219,
            4.984,
            5.009,
            5.183,
            5.204,
            5.137,
            5.14,
            5.236,
            5.175,
            5.243
           ]
          },
          {
           "axis": {
            "matches": true
           },
           "label": "WK",
           "values": [
            2.994,
            3.073,
            3.074,
            2.967,
            2.777,
            2.687,
            2.719,
            2.967,
            2.911,
            2.648,
            2.84,
            2.776,
            2.833,
            2.693,
            2.755,
            2.675,
            2.849,
            2.745,
            2.678,
            2.695,
            2.879,
            2.81,
            2.847,
            2.968,
            2.794,
            2.941,
            2.897,
            2.837,
            2.668,
            2.715,
            2.701,
            2.845,
            2.763,
            2.763,
            2.641,
            2.821,
            2.71,
            2.642,
            2.758,
            2.893,
            2.775,
            3.017,
            2.909,
            2.85,
            3.026,
            2.683,
            2.716,
            2.675,
            2.821,
            2.787,
            2.717,
            2.804,
            2.953,
            2.63,
            2.975,
            3.126,
            3.054,
            3.128,
            2.911,
            3.155,
            2.989,
            3.135,
            2.81,
            3.091,
            2.96,
            2.981,
            2.795,
            3.232,
            2.836,
            2.974
           ]
          },
          {
           "axis": {
            "matches": true
           },
           "label": "A_Coef",
           "values": [
            5.304,
            7.035,
            5.995,
            5.469,
            4.471,
            6.169,
            2.221,
            4.421,
            3.26,
            5.462,
            5.195,
            6.992,
            4.756,
            3.332,
            4.048,
            5.813,
            3.347,
            4.825,
            4.378,
            5.388,
            3.082,
            4.271,
            4.988,
            4.419,
            6.388,
            2.201,
            4.924,
            3.638,
            4.337,
            3.521,
            6.735,
            6.715,
            4.309,
            5.588,
            5.182,
            4.773,
            5.335,
            4.702,
            5.876,
            1.661,
            4.957,
            4.987,
            4.857,
            5.209,
            6.185,
            4.062,
            4.898,
            4.179,
            7.524,
            4.975,
            5.398,
            3.985,
            3.597,
            4.853,
            4.132,
            4.873,
            5.483,
            4.67,
            3.306,
            2.828,
            5.472,
            2.3,
            4.051,
            8.456,
            3.919,
            3.631,
            4.325,
            8.315,
            3.598,
            5.637
           ]
          },
          {
           "axis": {
            "matches": true
           },
           "label": "LKG",
           "values": [
            5.395,
            5.44,
            5.307,
            5.221,
            5.178,
            5.275,
            5.132,
            5.002,
            5.316,
            5.194,
            5.307,
            5.27,
            5.36,
            5.001,
            5.263,
            5.219,
            5.003,
            5.22,
            5.31,
            5.31,
            5.491,
            5.308,
            5.046,
            5.176,
            5.049,
            5.056,
            5.27,
            5.338,
            5.132,
            5.088,
            5.163,
            4.956,
            5,
            5.089,
            5.185,
            5.063,
            5.092,
            4.963,
            5.002,
            5.178,
            4.825,
            5.147,
            5.158,
            5.135,
            5.316,
            5.182,
            5.352,
            4.956,
            4.957,
            4.794,
            5.045,
            5.001,
            5.132,
            5.089,
            5.012,
            4.914,
            4.958,
            5.091,
            5.231,
            4.83,
            5.045,
            4.745,
            4.828,
            5,
            5.001,
            4.87,
            5.003,
            5.056,
            5.044,
            5.063
           ]
          }
         ],
         "hovertemplate": "target=%{marker.color}<br>%{xaxis.title.text}=%{x}<br>%{yaxis.title.text}=%{y}<extra></extra>",
         "legendgroup": "2",
         "marker": {
          "color": [
           2,
           2,
           2,
           2,
           2,
           2,
           2,
           2,
           2,
           2,
           2,
           2,
           2,
           2,
           2,
           2,
           2,
           2,
           2,
           2,
           2,
           2,
           2,
           2,
           2,
           2,
           2,
           2,
           2,
           2,
           2,
           2,
           2,
           2,
           2,
           2,
           2,
           2,
           2,
           2,
           2,
           2,
           2,
           2,
           2,
           2,
           2,
           2,
           2,
           2,
           2,
           2,
           2,
           2,
           2,
           2,
           2,
           2,
           2,
           2,
           2,
           2,
           2,
           2,
           2,
           2,
           2,
           2,
           2,
           2
          ],
          "coloraxis": "coloraxis",
          "symbol": "circle"
         },
         "name": "2",
         "showlegend": true,
         "type": "splom"
        }
       ],
       "layout": {
        "annotations": [
         {
          "font": {
           "color": "#EF553B",
           "size": 12
          },
          "showarrow": false,
          "text": "*Roll No. 5, 9",
          "x": 0.5,
          "xref": "paper",
          "y": 1.1,
          "yref": "paper"
         }
        ],
        "coloraxis": {
         "colorbar": {
          "title": {
           "text": "target"
          }
         },
         "colorscale": [
          [
           0,
           "#0d0887"
          ],
          [
           0.1111111111111111,
           "#46039f"
          ],
          [
           0.2222222222222222,
           "#7201a8"
          ],
          [
           0.3333333333333333,
           "#9c179e"
          ],
          [
           0.4444444444444444,
           "#bd3786"
          ],
          [
           0.5555555555555556,
           "#d8576b"
          ],
          [
           0.6666666666666666,
           "#ed7953"
          ],
          [
           0.7777777777777778,
           "#fb9f3a"
          ],
          [
           0.8888888888888888,
           "#fdca26"
          ],
          [
           1,
           "#f0f921"
          ]
         ]
        },
        "dragmode": "select",
        "legend": {
         "title": {
          "text": "target"
         },
         "tracegroupgap": 0
        },
        "margin": {
         "t": 60
        },
        "template": {
         "data": {
          "bar": [
           {
            "error_x": {
             "color": "#2a3f5f"
            },
            "error_y": {
             "color": "#2a3f5f"
            },
            "marker": {
             "line": {
              "color": "#E5ECF6",
              "width": 0.5
             },
             "pattern": {
              "fillmode": "overlay",
              "size": 10,
              "solidity": 0.2
             }
            },
            "type": "bar"
           }
          ],
          "barpolar": [
           {
            "marker": {
             "line": {
              "color": "#E5ECF6",
              "width": 0.5
             },
             "pattern": {
              "fillmode": "overlay",
              "size": 10,
              "solidity": 0.2
             }
            },
            "type": "barpolar"
           }
          ],
          "carpet": [
           {
            "aaxis": {
             "endlinecolor": "#2a3f5f",
             "gridcolor": "white",
             "linecolor": "white",
             "minorgridcolor": "white",
             "startlinecolor": "#2a3f5f"
            },
            "baxis": {
             "endlinecolor": "#2a3f5f",
             "gridcolor": "white",
             "linecolor": "white",
             "minorgridcolor": "white",
             "startlinecolor": "#2a3f5f"
            },
            "type": "carpet"
           }
          ],
          "choropleth": [
           {
            "colorbar": {
             "outlinewidth": 0,
             "ticks": ""
            },
            "type": "choropleth"
           }
          ],
          "contour": [
           {
            "colorbar": {
             "outlinewidth": 0,
             "ticks": ""
            },
            "colorscale": [
             [
              0,
              "#0d0887"
             ],
             [
              0.1111111111111111,
              "#46039f"
             ],
             [
              0.2222222222222222,
              "#7201a8"
             ],
             [
              0.3333333333333333,
              "#9c179e"
             ],
             [
              0.4444444444444444,
              "#bd3786"
             ],
             [
              0.5555555555555556,
              "#d8576b"
             ],
             [
              0.6666666666666666,
              "#ed7953"
             ],
             [
              0.7777777777777778,
              "#fb9f3a"
             ],
             [
              0.8888888888888888,
              "#fdca26"
             ],
             [
              1,
              "#f0f921"
             ]
            ],
            "type": "contour"
           }
          ],
          "contourcarpet": [
           {
            "colorbar": {
             "outlinewidth": 0,
             "ticks": ""
            },
            "type": "contourcarpet"
           }
          ],
          "heatmap": [
           {
            "colorbar": {
             "outlinewidth": 0,
             "ticks": ""
            },
            "colorscale": [
             [
              0,
              "#0d0887"
             ],
             [
              0.1111111111111111,
              "#46039f"
             ],
             [
              0.2222222222222222,
              "#7201a8"
             ],
             [
              0.3333333333333333,
              "#9c179e"
             ],
             [
              0.4444444444444444,
              "#bd3786"
             ],
             [
              0.5555555555555556,
              "#d8576b"
             ],
             [
              0.6666666666666666,
              "#ed7953"
             ],
             [
              0.7777777777777778,
              "#fb9f3a"
             ],
             [
              0.8888888888888888,
              "#fdca26"
             ],
             [
              1,
              "#f0f921"
             ]
            ],
            "type": "heatmap"
           }
          ],
          "heatmapgl": [
           {
            "colorbar": {
             "outlinewidth": 0,
             "ticks": ""
            },
            "colorscale": [
             [
              0,
              "#0d0887"
             ],
             [
              0.1111111111111111,
              "#46039f"
             ],
             [
              0.2222222222222222,
              "#7201a8"
             ],
             [
              0.3333333333333333,
              "#9c179e"
             ],
             [
              0.4444444444444444,
              "#bd3786"
             ],
             [
              0.5555555555555556,
              "#d8576b"
             ],
             [
              0.6666666666666666,
              "#ed7953"
             ],
             [
              0.7777777777777778,
              "#fb9f3a"
             ],
             [
              0.8888888888888888,
              "#fdca26"
             ],
             [
              1,
              "#f0f921"
             ]
            ],
            "type": "heatmapgl"
           }
          ],
          "histogram": [
           {
            "marker": {
             "pattern": {
              "fillmode": "overlay",
              "size": 10,
              "solidity": 0.2
             }
            },
            "type": "histogram"
           }
          ],
          "histogram2d": [
           {
            "colorbar": {
             "outlinewidth": 0,
             "ticks": ""
            },
            "colorscale": [
             [
              0,
              "#0d0887"
             ],
             [
              0.1111111111111111,
              "#46039f"
             ],
             [
              0.2222222222222222,
              "#7201a8"
             ],
             [
              0.3333333333333333,
              "#9c179e"
             ],
             [
              0.4444444444444444,
              "#bd3786"
             ],
             [
              0.5555555555555556,
              "#d8576b"
             ],
             [
              0.6666666666666666,
              "#ed7953"
             ],
             [
              0.7777777777777778,
              "#fb9f3a"
             ],
             [
              0.8888888888888888,
              "#fdca26"
             ],
             [
              1,
              "#f0f921"
             ]
            ],
            "type": "histogram2d"
           }
          ],
          "histogram2dcontour": [
           {
            "colorbar": {
             "outlinewidth": 0,
             "ticks": ""
            },
            "colorscale": [
             [
              0,
              "#0d0887"
             ],
             [
              0.1111111111111111,
              "#46039f"
             ],
             [
              0.2222222222222222,
              "#7201a8"
             ],
             [
              0.3333333333333333,
              "#9c179e"
             ],
             [
              0.4444444444444444,
              "#bd3786"
             ],
             [
              0.5555555555555556,
              "#d8576b"
             ],
             [
              0.6666666666666666,
              "#ed7953"
             ],
             [
              0.7777777777777778,
              "#fb9f3a"
             ],
             [
              0.8888888888888888,
              "#fdca26"
             ],
             [
              1,
              "#f0f921"
             ]
            ],
            "type": "histogram2dcontour"
           }
          ],
          "mesh3d": [
           {
            "colorbar": {
             "outlinewidth": 0,
             "ticks": ""
            },
            "type": "mesh3d"
           }
          ],
          "parcoords": [
           {
            "line": {
             "colorbar": {
              "outlinewidth": 0,
              "ticks": ""
             }
            },
            "type": "parcoords"
           }
          ],
          "pie": [
           {
            "automargin": true,
            "type": "pie"
           }
          ],
          "scatter": [
           {
            "fillpattern": {
             "fillmode": "overlay",
             "size": 10,
             "solidity": 0.2
            },
            "type": "scatter"
           }
          ],
          "scatter3d": [
           {
            "line": {
             "colorbar": {
              "outlinewidth": 0,
              "ticks": ""
             }
            },
            "marker": {
             "colorbar": {
              "outlinewidth": 0,
              "ticks": ""
             }
            },
            "type": "scatter3d"
           }
          ],
          "scattercarpet": [
           {
            "marker": {
             "colorbar": {
              "outlinewidth": 0,
              "ticks": ""
             }
            },
            "type": "scattercarpet"
           }
          ],
          "scattergeo": [
           {
            "marker": {
             "colorbar": {
              "outlinewidth": 0,
              "ticks": ""
             }
            },
            "type": "scattergeo"
           }
          ],
          "scattergl": [
           {
            "marker": {
             "colorbar": {
              "outlinewidth": 0,
              "ticks": ""
             }
            },
            "type": "scattergl"
           }
          ],
          "scattermapbox": [
           {
            "marker": {
             "colorbar": {
              "outlinewidth": 0,
              "ticks": ""
             }
            },
            "type": "scattermapbox"
           }
          ],
          "scatterpolar": [
           {
            "marker": {
             "colorbar": {
              "outlinewidth": 0,
              "ticks": ""
             }
            },
            "type": "scatterpolar"
           }
          ],
          "scatterpolargl": [
           {
            "marker": {
             "colorbar": {
              "outlinewidth": 0,
              "ticks": ""
             }
            },
            "type": "scatterpolargl"
           }
          ],
          "scatterternary": [
           {
            "marker": {
             "colorbar": {
              "outlinewidth": 0,
              "ticks": ""
             }
            },
            "type": "scatterternary"
           }
          ],
          "surface": [
           {
            "colorbar": {
             "outlinewidth": 0,
             "ticks": ""
            },
            "colorscale": [
             [
              0,
              "#0d0887"
             ],
             [
              0.1111111111111111,
              "#46039f"
             ],
             [
              0.2222222222222222,
              "#7201a8"
             ],
             [
              0.3333333333333333,
              "#9c179e"
             ],
             [
              0.4444444444444444,
              "#bd3786"
             ],
             [
              0.5555555555555556,
              "#d8576b"
             ],
             [
              0.6666666666666666,
              "#ed7953"
             ],
             [
              0.7777777777777778,
              "#fb9f3a"
             ],
             [
              0.8888888888888888,
              "#fdca26"
             ],
             [
              1,
              "#f0f921"
             ]
            ],
            "type": "surface"
           }
          ],
          "table": [
           {
            "cells": {
             "fill": {
              "color": "#EBF0F8"
             },
             "line": {
              "color": "white"
             }
            },
            "header": {
             "fill": {
              "color": "#C8D4E3"
             },
             "line": {
              "color": "white"
             }
            },
            "type": "table"
           }
          ]
         },
         "layout": {
          "annotationdefaults": {
           "arrowcolor": "#2a3f5f",
           "arrowhead": 0,
           "arrowwidth": 1
          },
          "autotypenumbers": "strict",
          "coloraxis": {
           "colorbar": {
            "outlinewidth": 0,
            "ticks": ""
           }
          },
          "colorscale": {
           "diverging": [
            [
             0,
             "#8e0152"
            ],
            [
             0.1,
             "#c51b7d"
            ],
            [
             0.2,
             "#de77ae"
            ],
            [
             0.3,
             "#f1b6da"
            ],
            [
             0.4,
             "#fde0ef"
            ],
            [
             0.5,
             "#f7f7f7"
            ],
            [
             0.6,
             "#e6f5d0"
            ],
            [
             0.7,
             "#b8e186"
            ],
            [
             0.8,
             "#7fbc41"
            ],
            [
             0.9,
             "#4d9221"
            ],
            [
             1,
             "#276419"
            ]
           ],
           "sequential": [
            [
             0,
             "#0d0887"
            ],
            [
             0.1111111111111111,
             "#46039f"
            ],
            [
             0.2222222222222222,
             "#7201a8"
            ],
            [
             0.3333333333333333,
             "#9c179e"
            ],
            [
             0.4444444444444444,
             "#bd3786"
            ],
            [
             0.5555555555555556,
             "#d8576b"
            ],
            [
             0.6666666666666666,
             "#ed7953"
            ],
            [
             0.7777777777777778,
             "#fb9f3a"
            ],
            [
             0.8888888888888888,
             "#fdca26"
            ],
            [
             1,
             "#f0f921"
            ]
           ],
           "sequentialminus": [
            [
             0,
             "#0d0887"
            ],
            [
             0.1111111111111111,
             "#46039f"
            ],
            [
             0.2222222222222222,
             "#7201a8"
            ],
            [
             0.3333333333333333,
             "#9c179e"
            ],
            [
             0.4444444444444444,
             "#bd3786"
            ],
            [
             0.5555555555555556,
             "#d8576b"
            ],
            [
             0.6666666666666666,
             "#ed7953"
            ],
            [
             0.7777777777777778,
             "#fb9f3a"
            ],
            [
             0.8888888888888888,
             "#fdca26"
            ],
            [
             1,
             "#f0f921"
            ]
           ]
          },
          "colorway": [
           "#636efa",
           "#EF553B",
           "#00cc96",
           "#ab63fa",
           "#FFA15A",
           "#19d3f3",
           "#FF6692",
           "#B6E880",
           "#FF97FF",
           "#FECB52"
          ],
          "font": {
           "color": "#2a3f5f"
          },
          "geo": {
           "bgcolor": "white",
           "lakecolor": "white",
           "landcolor": "#E5ECF6",
           "showlakes": true,
           "showland": true,
           "subunitcolor": "white"
          },
          "hoverlabel": {
           "align": "left"
          },
          "hovermode": "closest",
          "mapbox": {
           "style": "light"
          },
          "paper_bgcolor": "white",
          "plot_bgcolor": "#E5ECF6",
          "polar": {
           "angularaxis": {
            "gridcolor": "white",
            "linecolor": "white",
            "ticks": ""
           },
           "bgcolor": "#E5ECF6",
           "radialaxis": {
            "gridcolor": "white",
            "linecolor": "white",
            "ticks": ""
           }
          },
          "scene": {
           "xaxis": {
            "backgroundcolor": "#E5ECF6",
            "gridcolor": "white",
            "gridwidth": 2,
            "linecolor": "white",
            "showbackground": true,
            "ticks": "",
            "zerolinecolor": "white"
           },
           "yaxis": {
            "backgroundcolor": "#E5ECF6",
            "gridcolor": "white",
            "gridwidth": 2,
            "linecolor": "white",
            "showbackground": true,
            "ticks": "",
            "zerolinecolor": "white"
           },
           "zaxis": {
            "backgroundcolor": "#E5ECF6",
            "gridcolor": "white",
            "gridwidth": 2,
            "linecolor": "white",
            "showbackground": true,
            "ticks": "",
            "zerolinecolor": "white"
           }
          },
          "shapedefaults": {
           "line": {
            "color": "#2a3f5f"
           }
          },
          "ternary": {
           "aaxis": {
            "gridcolor": "white",
            "linecolor": "white",
            "ticks": ""
           },
           "baxis": {
            "gridcolor": "white",
            "linecolor": "white",
            "ticks": ""
           },
           "bgcolor": "#E5ECF6",
           "caxis": {
            "gridcolor": "white",
            "linecolor": "white",
            "ticks": ""
           }
          },
          "title": {
           "x": 0.05
          },
          "xaxis": {
           "automargin": true,
           "gridcolor": "white",
           "linecolor": "white",
           "ticks": "",
           "title": {
            "standoff": 15
           },
           "zerolinecolor": "white",
           "zerolinewidth": 2
          },
          "yaxis": {
           "automargin": true,
           "gridcolor": "white",
           "linecolor": "white",
           "ticks": "",
           "title": {
            "standoff": 15
           },
           "zerolinecolor": "white",
           "zerolinewidth": 2
          }
         }
        }
       }
      },
      "text/html": [
       "<div>                            <div id=\"76677c5b-d8c8-4a89-99c6-25fe79b69d7b\" class=\"plotly-graph-div\" style=\"height:525px; width:100%;\"></div>            <script type=\"text/javascript\">                require([\"plotly\"], function(Plotly) {                    window.PLOTLYENV=window.PLOTLYENV || {};                                    if (document.getElementById(\"76677c5b-d8c8-4a89-99c6-25fe79b69d7b\")) {                    Plotly.newPlot(                        \"76677c5b-d8c8-4a89-99c6-25fe79b69d7b\",                        [{\"dimensions\":[{\"axis\":{\"matches\":true},\"label\":\"A\",\"values\":[15.26,14.88,14.29,13.84,16.14,14.38,14.69,14.11,16.63,16.44,15.26,14.03,13.89,13.78,13.74,14.59,13.99,15.69,14.7,12.72,14.16,14.11,15.88,12.08,15.01,16.19,13.02,12.74,14.11,13.45,13.16,15.49,14.09,13.94,15.05,16.12,16.2,17.08,14.8,14.28,13.54,13.5,13.16,15.5,15.11,13.8,15.36,14.99,14.79,14.86,14.43,15.78,14.49,14.33,14.52,15.03,14.46,14.92,15.38,12.11,11.42,11.23,12.36,13.22,12.78,12.88,14.34,14.01,14.37,12.73]},{\"axis\":{\"matches\":true},\"label\":\"P\",\"values\":[14.84,14.57,14.09,13.94,14.99,14.21,14.49,14.1,15.46,15.25,14.85,14.16,14.02,14.06,14.05,14.28,13.83,14.75,14.21,13.57,14.4,14.26,14.9,13.23,14.76,15.16,13.76,13.67,14.18,14.02,13.82,14.94,14.41,14.17,14.68,15.0,15.27,15.38,14.52,14.17,13.85,13.85,13.55,14.86,14.54,14.04,14.76,14.56,14.52,14.67,14.4,14.91,14.61,14.28,14.6,14.77,14.35,14.43,14.77,13.47,12.86,12.63,13.19,13.84,13.57,13.5,14.37,14.29,14.39,13.75]},{\"axis\":{\"matches\":true},\"label\":\"C\",\"values\":[0.871,0.8811,0.905,0.8955,0.9034,0.8951,0.8799,0.8911,0.8747,0.888,0.8696,0.8796,0.888,0.8759,0.8744,0.8993,0.9183,0.9058,0.9153,0.8686,0.8584,0.8722,0.8988,0.8664,0.8657,0.8849,0.8641,0.8564,0.882,0.8604,0.8662,0.8724,0.8529,0.8728,0.8779,0.9,0.8734,0.9079,0.8823,0.8944,0.8871,0.8852,0.9009,0.882,0.8986,0.8794,0.8861,0.8883,0.8819,0.8676,0.8751,0.8923,0.8538,0.8831,0.8557,0.8658,0.8818,0.9006,0.8857,0.8392,0.8683,0.884,0.8923,0.868,0.8716,0.8879,0.8726,0.8625,0.8726,0.8458]},{\"axis\":{\"matches\":true},\"label\":\"LK\",\"values\":[5.763,5.554,5.291,5.324,5.658,5.386,5.563,5.42,6.053,5.884,5.714,5.438,5.439,5.479,5.482,5.351,5.119,5.527,5.205,5.226,5.658,5.52,5.618,5.099,5.789,5.833,5.395,5.395,5.541,5.516,5.454,5.757,5.717,5.585,5.712,5.709,5.826,5.832,5.656,5.397,5.348,5.351,5.138,5.877,5.579,5.376,5.701,5.57,5.545,5.678,5.585,5.674,5.715,5.504,5.741,5.702,5.388,5.384,5.662,5.159,5.008,4.902,5.076,5.395,5.262,5.139,5.63,5.609,5.569,5.412]},{\"axis\":{\"matches\":true},\"label\":\"WK\",\"values\":[3.312,3.333,3.337,3.379,3.562,3.312,3.259,3.302,3.465,3.505,3.242,3.201,3.199,3.156,3.114,3.333,3.383,3.514,3.466,3.049,3.129,3.168,3.507,2.936,3.245,3.421,3.026,2.956,3.221,3.065,2.975,3.371,3.186,3.15,3.328,3.485,3.464,3.683,3.288,3.298,3.156,3.158,3.201,3.396,3.462,3.155,3.393,3.377,3.291,3.258,3.272,3.434,3.113,3.199,3.113,3.212,3.377,3.412,3.419,3.032,2.85,2.879,3.042,3.07,3.026,3.119,3.19,3.158,3.153,2.882]},{\"axis\":{\"matches\":true},\"label\":\"A_Coef\",\"values\":[2.221,1.018,2.699,2.259,1.355,2.462,3.586,2.7,2.04,1.969,4.543,1.717,3.986,3.136,2.932,4.185,5.234,1.599,1.767,4.102,3.072,2.688,0.7651,1.415,1.791,0.903,3.373,2.504,2.754,3.531,0.8551,3.412,3.92,2.124,2.129,2.27,2.823,2.956,3.112,6.685,2.587,2.249,2.461,4.711,3.128,1.56,1.367,2.958,2.704,2.129,3.975,5.593,4.116,3.328,1.481,1.933,2.802,1.142,1.999,1.502,2.7,2.269,3.22,4.157,1.176,2.352,1.313,2.217,1.464,3.533]},{\"axis\":{\"matches\":true},\"label\":\"LKG\",\"values\":[5.22,4.956,4.825,4.805,5.175,4.956,5.219,5.0,5.877,5.533,5.314,5.001,4.738,4.872,4.825,4.781,4.781,5.046,4.649,4.914,5.176,5.219,5.091,4.961,5.001,5.307,4.825,4.869,5.038,5.097,5.056,5.228,5.299,5.012,5.36,5.443,5.527,5.484,5.309,5.001,5.178,5.176,4.783,5.528,5.18,4.961,5.132,5.175,5.111,5.351,5.144,5.136,5.396,5.224,5.487,5.439,5.044,5.088,5.222,4.519,4.607,4.703,4.605,5.088,4.782,4.607,5.15,5.132,5.3,5.067]}],\"hovertemplate\":\"target=%{marker.color}\\u003cbr\\u003e%{xaxis.title.text}=%{x}\\u003cbr\\u003e%{yaxis.title.text}=%{y}\\u003cextra\\u003e\\u003c\\u002fextra\\u003e\",\"legendgroup\":\"0\",\"marker\":{\"color\":[0,0,0,0,0,0,0,0,0,0,0,0,0,0,0,0,0,0,0,0,0,0,0,0,0,0,0,0,0,0,0,0,0,0,0,0,0,0,0,0,0,0,0,0,0,0,0,0,0,0,0,0,0,0,0,0,0,0,0,0,0,0,0,0,0,0,0,0,0,0],\"coloraxis\":\"coloraxis\",\"symbol\":\"x\"},\"name\":\"0\",\"showlegend\":true,\"type\":\"splom\",\"diagonal\":{\"visible\":false}},{\"dimensions\":[{\"axis\":{\"matches\":true},\"label\":\"A\",\"values\":[17.63,16.84,17.26,19.11,16.82,16.77,17.32,20.71,18.94,17.12,16.53,18.72,20.2,19.57,19.51,18.27,18.88,18.98,21.18,20.88,20.1,18.76,18.81,18.59,18.36,16.87,19.31,18.98,18.17,18.72,16.41,17.99,19.46,19.18,18.95,18.83,18.85,17.63,19.94,18.55,18.45,19.38,19.13,19.14,20.97,19.06,18.96,19.15,18.89,20.03,20.24,18.14,16.17,18.43,15.99,18.75,18.65,17.98,20.16,17.55,18.3,18.94,15.38,16.16,15.56,15.38,17.36,15.57,15.6,16.23]},{\"axis\":{\"matches\":true},\"label\":\"P\",\"values\":[15.98,15.67,15.73,16.26,15.51,15.62,15.91,17.23,16.49,15.55,15.34,16.19,16.89,16.74,16.71,16.09,16.26,16.66,17.21,17.05,16.99,16.2,16.29,16.05,16.52,15.65,16.59,16.57,16.26,16.34,15.25,15.86,16.5,16.63,16.42,16.29,16.17,15.86,16.92,16.22,16.12,16.72,16.31,16.61,17.25,16.45,16.2,16.45,16.23,16.9,16.91,16.12,15.38,15.97,14.89,16.18,16.41,15.85,17.03,15.66,15.89,16.32,14.9,15.33,14.89,14.66,15.76,15.15,15.11,15.18]},{\"axis\":{\"matches\":true},\"label\":\"C\",\"values\":[0.8673,0.8623,0.8763,0.9081,0.8786,0.8638,0.8599,0.8763,0.875,0.8892,0.8823,0.8977,0.8894,0.8779,0.878,0.887,0.8969,0.859,0.8989,0.9031,0.8746,0.8984,0.8906,0.9066,0.8452,0.8648,0.8815,0.8687,0.8637,0.881,0.8866,0.8992,0.8985,0.8717,0.8829,0.8917,0.9056,0.88,0.8752,0.8865,0.8921,0.8716,0.9035,0.8722,0.8859,0.8854,0.9077,0.889,0.9008,0.8811,0.8897,0.8772,0.8588,0.9077,0.9064,0.8999,0.8698,0.8993,0.8735,0.8991,0.9108,0.8942,0.8706,0.8644,0.8823,0.899,0.8785,0.8527,0.858,0.885]},{\"axis\":{\"matches\":true},\"label\":\"LK\",\"values\":[6.191,5.998,5.978,6.154,6.017,5.927,6.064,6.579,6.445,5.85,5.875,6.006,6.285,6.384,6.366,6.173,6.084,6.549,6.573,6.45,6.581,6.172,6.272,6.037,6.666,6.139,6.341,6.449,6.271,6.219,5.718,5.89,6.113,6.369,6.248,6.037,6.152,6.033,6.675,6.153,6.107,6.303,6.183,6.259,6.563,6.416,6.051,6.245,6.227,6.493,6.315,6.059,5.762,5.98,5.363,6.111,6.285,5.979,6.513,5.791,5.979,6.144,5.884,5.845,5.776,5.477,6.145,5.92,5.832,5.872]},{\"axis\":{\"matches\":true},\"label\":\"WK\",\"values\":[3.561,3.484,3.594,3.93,3.486,3.438,3.403,3.814,3.639,3.566,3.467,3.857,3.864,3.772,3.801,3.651,3.764,3.67,4.033,4.032,3.785,3.796,3.693,3.86,3.485,3.463,3.81,3.552,3.512,3.684,3.525,3.694,3.892,3.681,3.755,3.786,3.806,3.573,3.763,3.674,3.769,3.791,3.902,3.737,3.991,3.719,3.897,3.815,3.769,3.857,3.962,3.563,3.387,3.771,3.582,3.869,3.594,3.687,3.773,3.69,3.755,3.825,3.268,3.395,3.408,3.465,3.574,3.231,3.286,3.472]},{\"axis\":{\"matches\":true},\"label\":\"A_Coef\",\"values\":[4.076,4.675,4.539,2.936,4.004,4.92,3.824,4.451,5.064,2.858,5.532,5.324,5.173,1.472,2.962,2.443,1.649,3.691,5.78,5.016,1.955,3.12,3.237,6.001,4.933,3.696,3.477,2.144,2.853,2.188,4.217,2.068,4.308,3.357,3.368,2.553,2.843,3.747,3.252,1.738,2.235,3.678,2.109,6.682,4.677,2.248,4.334,3.084,3.639,3.063,5.901,3.619,4.286,2.984,3.336,4.188,4.391,2.257,1.91,5.366,2.837,2.908,4.462,4.266,4.972,3.6,3.526,2.64,2.725,3.769]},{\"axis\":{\"matches\":true},\"label\":\"LKG\",\"values\":[6.06,5.877,5.791,6.079,5.841,5.795,5.922,6.451,6.362,5.746,5.88,5.879,6.187,6.273,6.185,6.197,6.109,6.498,6.231,6.321,6.449,6.053,6.053,5.877,6.448,5.967,6.238,6.453,6.273,6.097,5.618,5.837,6.009,6.229,6.148,5.879,6.2,5.929,6.55,5.894,5.794,5.965,5.924,6.053,6.316,6.163,5.75,6.185,5.966,6.32,6.188,6.011,5.703,5.905,5.144,5.992,6.102,5.919,6.185,5.661,5.962,5.949,5.795,5.795,5.847,5.439,5.971,5.879,5.752,5.922]}],\"hovertemplate\":\"target=%{marker.color}\\u003cbr\\u003e%{xaxis.title.text}=%{x}\\u003cbr\\u003e%{yaxis.title.text}=%{y}\\u003cextra\\u003e\\u003c\\u002fextra\\u003e\",\"legendgroup\":\"1\",\"marker\":{\"color\":[1,1,1,1,1,1,1,1,1,1,1,1,1,1,1,1,1,1,1,1,1,1,1,1,1,1,1,1,1,1,1,1,1,1,1,1,1,1,1,1,1,1,1,1,1,1,1,1,1,1,1,1,1,1,1,1,1,1,1,1,1,1,1,1,1,1,1,1,1,1],\"coloraxis\":\"coloraxis\",\"symbol\":\"cross\"},\"name\":\"1\",\"showlegend\":true,\"type\":\"splom\",\"diagonal\":{\"visible\":false}},{\"dimensions\":[{\"axis\":{\"matches\":true},\"label\":\"A\",\"values\":[13.07,13.32,13.34,12.22,11.82,11.21,11.43,12.49,12.7,10.79,11.83,12.01,12.26,11.18,11.36,11.19,11.34,12.13,11.75,11.49,12.54,12.02,12.05,12.55,11.14,12.1,12.44,12.15,11.35,11.24,11.02,11.55,11.27,11.4,10.83,10.8,11.26,10.74,11.48,12.21,11.41,12.46,12.19,11.65,12.89,11.56,11.81,10.91,11.23,10.59,10.93,11.27,11.87,10.82,12.11,12.8,12.79,13.37,12.62,12.76,12.38,12.67,11.18,12.7,12.37,12.19,11.23,13.2,11.84,12.3]},{\"axis\":{\"matches\":true},\"label\":\"P\",\"values\":[13.92,13.94,13.95,13.32,13.4,13.13,13.13,13.46,13.71,12.93,13.23,13.52,13.6,13.04,13.05,13.05,12.87,13.73,13.52,13.22,13.67,13.33,13.41,13.57,12.79,13.15,13.59,13.45,13.12,13.0,13.0,13.1,12.97,13.08,12.96,12.57,13.01,12.73,13.05,13.47,12.95,13.41,13.36,13.07,13.77,13.31,13.45,12.8,12.82,12.41,12.8,12.86,13.02,12.83,13.27,13.47,13.53,13.78,13.67,13.38,13.44,13.32,12.72,13.41,13.47,13.2,12.88,13.66,13.21,13.34]},{\"axis\":{\"matches\":true},\"label\":\"C\",\"values\":[0.848,0.8613,0.862,0.8652,0.8274,0.8167,0.8335,0.8658,0.8491,0.8107,0.8496,0.8249,0.8333,0.8266,0.8382,0.8253,0.8596,0.8081,0.8082,0.8263,0.8425,0.8503,0.8416,0.8558,0.8558,0.8793,0.8462,0.8443,0.8291,0.8359,0.8189,0.8455,0.8419,0.8375,0.8099,0.859,0.8355,0.8329,0.8473,0.8453,0.856,0.8706,0.8579,0.8575,0.8541,0.8198,0.8198,0.8372,0.8594,0.8648,0.839,0.8563,0.8795,0.8256,0.8639,0.886,0.8786,0.8849,0.8481,0.8964,0.8609,0.8977,0.868,0.8874,0.8567,0.8783,0.8511,0.8883,0.8521,0.8684]},{\"axis\":{\"matches\":true},\"label\":\"LK\",\"values\":[5.472,5.541,5.389,5.224,5.314,5.279,5.176,5.267,5.386,5.317,5.263,5.405,5.408,5.22,5.175,5.25,5.053,5.394,5.444,5.304,5.451,5.35,5.267,5.333,5.011,5.105,5.319,5.417,5.176,5.09,5.325,5.167,5.088,5.136,5.278,4.981,5.186,5.145,5.18,5.357,5.09,5.236,5.24,5.108,5.495,5.363,5.413,5.088,5.089,4.899,5.046,5.091,5.132,5.18,5.236,5.16,5.224,5.32,5.41,5.073,5.219,4.984,5.009,5.183,5.204,5.137,5.14,5.236,5.175,5.243]},{\"axis\":{\"matches\":true},\"label\":\"WK\",\"values\":[2.994,3.073,3.074,2.967,2.777,2.687,2.719,2.967,2.911,2.648,2.84,2.776,2.833,2.693,2.755,2.675,2.849,2.745,2.678,2.695,2.879,2.81,2.847,2.968,2.794,2.941,2.897,2.837,2.668,2.715,2.701,2.845,2.763,2.763,2.641,2.821,2.71,2.642,2.758,2.893,2.775,3.017,2.909,2.85,3.026,2.683,2.716,2.675,2.821,2.787,2.717,2.804,2.953,2.63,2.975,3.126,3.054,3.128,2.911,3.155,2.989,3.135,2.81,3.091,2.96,2.981,2.795,3.232,2.836,2.974]},{\"axis\":{\"matches\":true},\"label\":\"A_Coef\",\"values\":[5.304,7.035,5.995,5.469,4.471,6.169,2.221,4.421,3.26,5.462,5.195,6.992,4.756,3.332,4.048,5.813,3.347,4.825,4.378,5.388,3.082,4.271,4.988,4.419,6.388,2.201,4.924,3.638,4.337,3.521,6.735,6.715,4.309,5.588,5.182,4.773,5.335,4.702,5.876,1.661,4.957,4.987,4.857,5.209,6.185,4.062,4.898,4.179,7.524,4.975,5.398,3.985,3.597,4.853,4.132,4.873,5.483,4.67,3.306,2.828,5.472,2.3,4.051,8.456,3.919,3.631,4.325,8.315,3.598,5.637]},{\"axis\":{\"matches\":true},\"label\":\"LKG\",\"values\":[5.395,5.44,5.307,5.221,5.178,5.275,5.132,5.002,5.316,5.194,5.307,5.27,5.36,5.001,5.263,5.219,5.003,5.22,5.31,5.31,5.491,5.308,5.046,5.176,5.049,5.056,5.27,5.338,5.132,5.088,5.163,4.956,5.0,5.089,5.185,5.063,5.092,4.963,5.002,5.178,4.825,5.147,5.158,5.135,5.316,5.182,5.352,4.956,4.957,4.794,5.045,5.001,5.132,5.089,5.012,4.914,4.958,5.091,5.231,4.83,5.045,4.745,4.828,5.0,5.001,4.87,5.003,5.056,5.044,5.063]}],\"hovertemplate\":\"target=%{marker.color}\\u003cbr\\u003e%{xaxis.title.text}=%{x}\\u003cbr\\u003e%{yaxis.title.text}=%{y}\\u003cextra\\u003e\\u003c\\u002fextra\\u003e\",\"legendgroup\":\"2\",\"marker\":{\"color\":[2,2,2,2,2,2,2,2,2,2,2,2,2,2,2,2,2,2,2,2,2,2,2,2,2,2,2,2,2,2,2,2,2,2,2,2,2,2,2,2,2,2,2,2,2,2,2,2,2,2,2,2,2,2,2,2,2,2,2,2,2,2,2,2,2,2,2,2,2,2],\"coloraxis\":\"coloraxis\",\"symbol\":\"circle\"},\"name\":\"2\",\"showlegend\":true,\"type\":\"splom\",\"diagonal\":{\"visible\":false}}],                        {\"template\":{\"data\":{\"histogram2dcontour\":[{\"type\":\"histogram2dcontour\",\"colorbar\":{\"outlinewidth\":0,\"ticks\":\"\"},\"colorscale\":[[0.0,\"#0d0887\"],[0.1111111111111111,\"#46039f\"],[0.2222222222222222,\"#7201a8\"],[0.3333333333333333,\"#9c179e\"],[0.4444444444444444,\"#bd3786\"],[0.5555555555555556,\"#d8576b\"],[0.6666666666666666,\"#ed7953\"],[0.7777777777777778,\"#fb9f3a\"],[0.8888888888888888,\"#fdca26\"],[1.0,\"#f0f921\"]]}],\"choropleth\":[{\"type\":\"choropleth\",\"colorbar\":{\"outlinewidth\":0,\"ticks\":\"\"}}],\"histogram2d\":[{\"type\":\"histogram2d\",\"colorbar\":{\"outlinewidth\":0,\"ticks\":\"\"},\"colorscale\":[[0.0,\"#0d0887\"],[0.1111111111111111,\"#46039f\"],[0.2222222222222222,\"#7201a8\"],[0.3333333333333333,\"#9c179e\"],[0.4444444444444444,\"#bd3786\"],[0.5555555555555556,\"#d8576b\"],[0.6666666666666666,\"#ed7953\"],[0.7777777777777778,\"#fb9f3a\"],[0.8888888888888888,\"#fdca26\"],[1.0,\"#f0f921\"]]}],\"heatmap\":[{\"type\":\"heatmap\",\"colorbar\":{\"outlinewidth\":0,\"ticks\":\"\"},\"colorscale\":[[0.0,\"#0d0887\"],[0.1111111111111111,\"#46039f\"],[0.2222222222222222,\"#7201a8\"],[0.3333333333333333,\"#9c179e\"],[0.4444444444444444,\"#bd3786\"],[0.5555555555555556,\"#d8576b\"],[0.6666666666666666,\"#ed7953\"],[0.7777777777777778,\"#fb9f3a\"],[0.8888888888888888,\"#fdca26\"],[1.0,\"#f0f921\"]]}],\"heatmapgl\":[{\"type\":\"heatmapgl\",\"colorbar\":{\"outlinewidth\":0,\"ticks\":\"\"},\"colorscale\":[[0.0,\"#0d0887\"],[0.1111111111111111,\"#46039f\"],[0.2222222222222222,\"#7201a8\"],[0.3333333333333333,\"#9c179e\"],[0.4444444444444444,\"#bd3786\"],[0.5555555555555556,\"#d8576b\"],[0.6666666666666666,\"#ed7953\"],[0.7777777777777778,\"#fb9f3a\"],[0.8888888888888888,\"#fdca26\"],[1.0,\"#f0f921\"]]}],\"contourcarpet\":[{\"type\":\"contourcarpet\",\"colorbar\":{\"outlinewidth\":0,\"ticks\":\"\"}}],\"contour\":[{\"type\":\"contour\",\"colorbar\":{\"outlinewidth\":0,\"ticks\":\"\"},\"colorscale\":[[0.0,\"#0d0887\"],[0.1111111111111111,\"#46039f\"],[0.2222222222222222,\"#7201a8\"],[0.3333333333333333,\"#9c179e\"],[0.4444444444444444,\"#bd3786\"],[0.5555555555555556,\"#d8576b\"],[0.6666666666666666,\"#ed7953\"],[0.7777777777777778,\"#fb9f3a\"],[0.8888888888888888,\"#fdca26\"],[1.0,\"#f0f921\"]]}],\"surface\":[{\"type\":\"surface\",\"colorbar\":{\"outlinewidth\":0,\"ticks\":\"\"},\"colorscale\":[[0.0,\"#0d0887\"],[0.1111111111111111,\"#46039f\"],[0.2222222222222222,\"#7201a8\"],[0.3333333333333333,\"#9c179e\"],[0.4444444444444444,\"#bd3786\"],[0.5555555555555556,\"#d8576b\"],[0.6666666666666666,\"#ed7953\"],[0.7777777777777778,\"#fb9f3a\"],[0.8888888888888888,\"#fdca26\"],[1.0,\"#f0f921\"]]}],\"mesh3d\":[{\"type\":\"mesh3d\",\"colorbar\":{\"outlinewidth\":0,\"ticks\":\"\"}}],\"scatter\":[{\"fillpattern\":{\"fillmode\":\"overlay\",\"size\":10,\"solidity\":0.2},\"type\":\"scatter\"}],\"parcoords\":[{\"type\":\"parcoords\",\"line\":{\"colorbar\":{\"outlinewidth\":0,\"ticks\":\"\"}}}],\"scatterpolargl\":[{\"type\":\"scatterpolargl\",\"marker\":{\"colorbar\":{\"outlinewidth\":0,\"ticks\":\"\"}}}],\"bar\":[{\"error_x\":{\"color\":\"#2a3f5f\"},\"error_y\":{\"color\":\"#2a3f5f\"},\"marker\":{\"line\":{\"color\":\"#E5ECF6\",\"width\":0.5},\"pattern\":{\"fillmode\":\"overlay\",\"size\":10,\"solidity\":0.2}},\"type\":\"bar\"}],\"scattergeo\":[{\"type\":\"scattergeo\",\"marker\":{\"colorbar\":{\"outlinewidth\":0,\"ticks\":\"\"}}}],\"scatterpolar\":[{\"type\":\"scatterpolar\",\"marker\":{\"colorbar\":{\"outlinewidth\":0,\"ticks\":\"\"}}}],\"histogram\":[{\"marker\":{\"pattern\":{\"fillmode\":\"overlay\",\"size\":10,\"solidity\":0.2}},\"type\":\"histogram\"}],\"scattergl\":[{\"type\":\"scattergl\",\"marker\":{\"colorbar\":{\"outlinewidth\":0,\"ticks\":\"\"}}}],\"scatter3d\":[{\"type\":\"scatter3d\",\"line\":{\"colorbar\":{\"outlinewidth\":0,\"ticks\":\"\"}},\"marker\":{\"colorbar\":{\"outlinewidth\":0,\"ticks\":\"\"}}}],\"scattermapbox\":[{\"type\":\"scattermapbox\",\"marker\":{\"colorbar\":{\"outlinewidth\":0,\"ticks\":\"\"}}}],\"scatterternary\":[{\"type\":\"scatterternary\",\"marker\":{\"colorbar\":{\"outlinewidth\":0,\"ticks\":\"\"}}}],\"scattercarpet\":[{\"type\":\"scattercarpet\",\"marker\":{\"colorbar\":{\"outlinewidth\":0,\"ticks\":\"\"}}}],\"carpet\":[{\"aaxis\":{\"endlinecolor\":\"#2a3f5f\",\"gridcolor\":\"white\",\"linecolor\":\"white\",\"minorgridcolor\":\"white\",\"startlinecolor\":\"#2a3f5f\"},\"baxis\":{\"endlinecolor\":\"#2a3f5f\",\"gridcolor\":\"white\",\"linecolor\":\"white\",\"minorgridcolor\":\"white\",\"startlinecolor\":\"#2a3f5f\"},\"type\":\"carpet\"}],\"table\":[{\"cells\":{\"fill\":{\"color\":\"#EBF0F8\"},\"line\":{\"color\":\"white\"}},\"header\":{\"fill\":{\"color\":\"#C8D4E3\"},\"line\":{\"color\":\"white\"}},\"type\":\"table\"}],\"barpolar\":[{\"marker\":{\"line\":{\"color\":\"#E5ECF6\",\"width\":0.5},\"pattern\":{\"fillmode\":\"overlay\",\"size\":10,\"solidity\":0.2}},\"type\":\"barpolar\"}],\"pie\":[{\"automargin\":true,\"type\":\"pie\"}]},\"layout\":{\"autotypenumbers\":\"strict\",\"colorway\":[\"#636efa\",\"#EF553B\",\"#00cc96\",\"#ab63fa\",\"#FFA15A\",\"#19d3f3\",\"#FF6692\",\"#B6E880\",\"#FF97FF\",\"#FECB52\"],\"font\":{\"color\":\"#2a3f5f\"},\"hovermode\":\"closest\",\"hoverlabel\":{\"align\":\"left\"},\"paper_bgcolor\":\"white\",\"plot_bgcolor\":\"#E5ECF6\",\"polar\":{\"bgcolor\":\"#E5ECF6\",\"angularaxis\":{\"gridcolor\":\"white\",\"linecolor\":\"white\",\"ticks\":\"\"},\"radialaxis\":{\"gridcolor\":\"white\",\"linecolor\":\"white\",\"ticks\":\"\"}},\"ternary\":{\"bgcolor\":\"#E5ECF6\",\"aaxis\":{\"gridcolor\":\"white\",\"linecolor\":\"white\",\"ticks\":\"\"},\"baxis\":{\"gridcolor\":\"white\",\"linecolor\":\"white\",\"ticks\":\"\"},\"caxis\":{\"gridcolor\":\"white\",\"linecolor\":\"white\",\"ticks\":\"\"}},\"coloraxis\":{\"colorbar\":{\"outlinewidth\":0,\"ticks\":\"\"}},\"colorscale\":{\"sequential\":[[0.0,\"#0d0887\"],[0.1111111111111111,\"#46039f\"],[0.2222222222222222,\"#7201a8\"],[0.3333333333333333,\"#9c179e\"],[0.4444444444444444,\"#bd3786\"],[0.5555555555555556,\"#d8576b\"],[0.6666666666666666,\"#ed7953\"],[0.7777777777777778,\"#fb9f3a\"],[0.8888888888888888,\"#fdca26\"],[1.0,\"#f0f921\"]],\"sequentialminus\":[[0.0,\"#0d0887\"],[0.1111111111111111,\"#46039f\"],[0.2222222222222222,\"#7201a8\"],[0.3333333333333333,\"#9c179e\"],[0.4444444444444444,\"#bd3786\"],[0.5555555555555556,\"#d8576b\"],[0.6666666666666666,\"#ed7953\"],[0.7777777777777778,\"#fb9f3a\"],[0.8888888888888888,\"#fdca26\"],[1.0,\"#f0f921\"]],\"diverging\":[[0,\"#8e0152\"],[0.1,\"#c51b7d\"],[0.2,\"#de77ae\"],[0.3,\"#f1b6da\"],[0.4,\"#fde0ef\"],[0.5,\"#f7f7f7\"],[0.6,\"#e6f5d0\"],[0.7,\"#b8e186\"],[0.8,\"#7fbc41\"],[0.9,\"#4d9221\"],[1,\"#276419\"]]},\"xaxis\":{\"gridcolor\":\"white\",\"linecolor\":\"white\",\"ticks\":\"\",\"title\":{\"standoff\":15},\"zerolinecolor\":\"white\",\"automargin\":true,\"zerolinewidth\":2},\"yaxis\":{\"gridcolor\":\"white\",\"linecolor\":\"white\",\"ticks\":\"\",\"title\":{\"standoff\":15},\"zerolinecolor\":\"white\",\"automargin\":true,\"zerolinewidth\":2},\"scene\":{\"xaxis\":{\"backgroundcolor\":\"#E5ECF6\",\"gridcolor\":\"white\",\"linecolor\":\"white\",\"showbackground\":true,\"ticks\":\"\",\"zerolinecolor\":\"white\",\"gridwidth\":2},\"yaxis\":{\"backgroundcolor\":\"#E5ECF6\",\"gridcolor\":\"white\",\"linecolor\":\"white\",\"showbackground\":true,\"ticks\":\"\",\"zerolinecolor\":\"white\",\"gridwidth\":2},\"zaxis\":{\"backgroundcolor\":\"#E5ECF6\",\"gridcolor\":\"white\",\"linecolor\":\"white\",\"showbackground\":true,\"ticks\":\"\",\"zerolinecolor\":\"white\",\"gridwidth\":2}},\"shapedefaults\":{\"line\":{\"color\":\"#2a3f5f\"}},\"annotationdefaults\":{\"arrowcolor\":\"#2a3f5f\",\"arrowhead\":0,\"arrowwidth\":1},\"geo\":{\"bgcolor\":\"white\",\"landcolor\":\"#E5ECF6\",\"subunitcolor\":\"white\",\"showland\":true,\"showlakes\":true,\"lakecolor\":\"white\"},\"title\":{\"x\":0.05},\"mapbox\":{\"style\":\"light\"}}},\"coloraxis\":{\"colorbar\":{\"title\":{\"text\":\"target\"}},\"colorscale\":[[0.0,\"#0d0887\"],[0.1111111111111111,\"#46039f\"],[0.2222222222222222,\"#7201a8\"],[0.3333333333333333,\"#9c179e\"],[0.4444444444444444,\"#bd3786\"],[0.5555555555555556,\"#d8576b\"],[0.6666666666666666,\"#ed7953\"],[0.7777777777777778,\"#fb9f3a\"],[0.8888888888888888,\"#fdca26\"],[1.0,\"#f0f921\"]]},\"legend\":{\"title\":{\"text\":\"target\"},\"tracegroupgap\":0},\"margin\":{\"t\":60},\"dragmode\":\"select\",\"annotations\":[{\"font\":{\"color\":\"#EF553B\",\"size\":12},\"showarrow\":false,\"text\":\"*Roll No. 5, 9\",\"x\":0.5,\"xref\":\"paper\",\"y\":1.1,\"yref\":\"paper\"}]},                        {\"responsive\": true}                    ).then(function(){\n",
       "                            \n",
       "var gd = document.getElementById('76677c5b-d8c8-4a89-99c6-25fe79b69d7b');\n",
       "var x = new MutationObserver(function (mutations, observer) {{\n",
       "        var display = window.getComputedStyle(gd).display;\n",
       "        if (!display || display === 'none') {{\n",
       "            console.log([gd, 'removed!']);\n",
       "            Plotly.purge(gd);\n",
       "            observer.disconnect();\n",
       "        }}\n",
       "}});\n",
       "\n",
       "// Listen for the removal of the full notebook cells\n",
       "var notebookContainer = gd.closest('#notebook-container');\n",
       "if (notebookContainer) {{\n",
       "    x.observe(notebookContainer, {childList: true});\n",
       "}}\n",
       "\n",
       "// Listen for the clearing of the current output cell\n",
       "var outputEl = gd.closest('.output');\n",
       "if (outputEl) {{\n",
       "    x.observe(outputEl, {childList: true});\n",
       "}}\n",
       "\n",
       "                        })                };                });            </script>        </div>"
      ]
     },
     "metadata": {},
     "output_type": "display_data"
    }
   ],
   "source": [
    "import plotly.express as px\n",
    "\n",
    "#features = ['area', 'perimeter', 'compactness', 'length of kernel', 'width of kernel',\n",
    " #           'asymmetry coefficient', 'length of kernel groove']\n",
    "\n",
    "features = ['A', 'P', 'C', 'LK', 'WK', 'A_Coef', 'LKG']\n",
    "\n",
    "symbol_map = {\n",
    "    \"Kama\": \"square\",\n",
    "    \"Rosa\": \"star\",\n",
    "    \"Canadian\": \"cross\"\n",
    "}\n",
    "\n",
    "\n",
    "target_column = \"target\"\n",
    "\n",
    "fig = px.scatter_matrix(\n",
    "    df,\n",
    "    dimensions=features,\n",
    "   color=target_column,\n",
    "  symbol=target_column,\n",
    "    symbol_map=symbol_map\n",
    ")\n",
    "fig.update_traces(diagonal_visible=False)\n",
    "fig.add_annotation(\n",
    "    x=0.5, y=1.1, xref=\"paper\", yref=\"paper\",\n",
    "    text=\"*Roll No. 5, 9\", showarrow=False,\n",
    "    font=dict(size=12, color=px.colors.qualitative.Plotly[1])\n",
    ")\n",
    "fig.show()\n"
   ]
  },
  {
   "cell_type": "code",
   "execution_count": null,
   "id": "03f214b2",
   "metadata": {},
   "outputs": [],
   "source": []
  }
 ],
 "metadata": {
  "kernelspec": {
   "display_name": "Python 3 (ipykernel)",
   "language": "python",
   "name": "python3"
  },
  "language_info": {
   "codemirror_mode": {
    "name": "ipython",
    "version": 3
   },
   "file_extension": ".py",
   "mimetype": "text/x-python",
   "name": "python",
   "nbconvert_exporter": "python",
   "pygments_lexer": "ipython3",
   "version": "3.11.0"
  }
 },
 "nbformat": 4,
 "nbformat_minor": 5
}
